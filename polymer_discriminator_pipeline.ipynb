{
  "cells": [
    {
      "cell_type": "code",
      "execution_count": null,
      "metadata": {
        "colab": {
          "base_uri": "https://localhost:8080/"
        },
        "collapsed": true,
        "id": "AP2p4zxmhaLf",
        "outputId": "f2e0da69-c000-43a5-b4c4-9a6599ce4496"
      },
      "outputs": [
        {
          "output_type": "stream",
          "name": "stdout",
          "text": [
            "Collecting rdkit\n",
            "  Downloading rdkit-2024.3.5-cp310-cp310-manylinux_2_28_x86_64.whl.metadata (3.9 kB)\n",
            "Collecting deepchem\n",
            "  Downloading deepchem-2.8.0-py3-none-any.whl.metadata (2.0 kB)\n",
            "Collecting torch_geometric\n",
            "  Downloading torch_geometric-2.6.1-py3-none-any.whl.metadata (63 kB)\n",
            "\u001b[2K     \u001b[90m━━━━━━━━━━━━━━━━━━━━━━━━━━━━━━━━━━━━━━━━\u001b[0m \u001b[32m63.1/63.1 kB\u001b[0m \u001b[31m2.7 MB/s\u001b[0m eta \u001b[36m0:00:00\u001b[0m\n",
            "\u001b[?25hCollecting dgllife\n",
            "  Downloading dgllife-0.3.2-py3-none-any.whl.metadata (667 bytes)\n",
            "Requirement already satisfied: numpy in /usr/local/lib/python3.10/dist-packages (from rdkit) (1.26.4)\n",
            "Requirement already satisfied: Pillow in /usr/local/lib/python3.10/dist-packages (from rdkit) (10.4.0)\n",
            "Requirement already satisfied: joblib in /usr/local/lib/python3.10/dist-packages (from deepchem) (1.4.2)\n",
            "Requirement already satisfied: pandas in /usr/local/lib/python3.10/dist-packages (from deepchem) (2.2.2)\n",
            "Requirement already satisfied: scikit-learn in /usr/local/lib/python3.10/dist-packages (from deepchem) (1.5.2)\n",
            "Requirement already satisfied: sympy in /usr/local/lib/python3.10/dist-packages (from deepchem) (1.13.3)\n",
            "Requirement already satisfied: scipy>=1.10.1 in /usr/local/lib/python3.10/dist-packages (from deepchem) (1.13.1)\n",
            "Requirement already satisfied: aiohttp in /usr/local/lib/python3.10/dist-packages (from torch_geometric) (3.10.8)\n",
            "Requirement already satisfied: fsspec in /usr/local/lib/python3.10/dist-packages (from torch_geometric) (2024.6.1)\n",
            "Requirement already satisfied: jinja2 in /usr/local/lib/python3.10/dist-packages (from torch_geometric) (3.1.4)\n",
            "Requirement already satisfied: psutil>=5.8.0 in /usr/local/lib/python3.10/dist-packages (from torch_geometric) (5.9.5)\n",
            "Requirement already satisfied: pyparsing in /usr/local/lib/python3.10/dist-packages (from torch_geometric) (3.1.4)\n",
            "Requirement already satisfied: requests in /usr/local/lib/python3.10/dist-packages (from torch_geometric) (2.32.3)\n",
            "Requirement already satisfied: tqdm in /usr/local/lib/python3.10/dist-packages (from torch_geometric) (4.66.5)\n",
            "Requirement already satisfied: networkx>=2.1 in /usr/local/lib/python3.10/dist-packages (from dgllife) (3.3)\n",
            "Requirement already satisfied: hyperopt in /usr/local/lib/python3.10/dist-packages (from dgllife) (0.2.7)\n",
            "Requirement already satisfied: charset-normalizer<4,>=2 in /usr/local/lib/python3.10/dist-packages (from requests->torch_geometric) (3.3.2)\n",
            "Requirement already satisfied: idna<4,>=2.5 in /usr/local/lib/python3.10/dist-packages (from requests->torch_geometric) (3.10)\n",
            "Requirement already satisfied: urllib3<3,>=1.21.1 in /usr/local/lib/python3.10/dist-packages (from requests->torch_geometric) (2.2.3)\n",
            "Requirement already satisfied: certifi>=2017.4.17 in /usr/local/lib/python3.10/dist-packages (from requests->torch_geometric) (2024.8.30)\n",
            "Requirement already satisfied: threadpoolctl>=3.1.0 in /usr/local/lib/python3.10/dist-packages (from scikit-learn->deepchem) (3.5.0)\n",
            "Requirement already satisfied: aiohappyeyeballs>=2.3.0 in /usr/local/lib/python3.10/dist-packages (from aiohttp->torch_geometric) (2.4.3)\n",
            "Requirement already satisfied: aiosignal>=1.1.2 in /usr/local/lib/python3.10/dist-packages (from aiohttp->torch_geometric) (1.3.1)\n",
            "Requirement already satisfied: attrs>=17.3.0 in /usr/local/lib/python3.10/dist-packages (from aiohttp->torch_geometric) (24.2.0)\n",
            "Requirement already satisfied: frozenlist>=1.1.1 in /usr/local/lib/python3.10/dist-packages (from aiohttp->torch_geometric) (1.4.1)\n",
            "Requirement already satisfied: multidict<7.0,>=4.5 in /usr/local/lib/python3.10/dist-packages (from aiohttp->torch_geometric) (6.1.0)\n",
            "Requirement already satisfied: yarl<2.0,>=1.12.0 in /usr/local/lib/python3.10/dist-packages (from aiohttp->torch_geometric) (1.13.1)\n",
            "Requirement already satisfied: async-timeout<5.0,>=4.0 in /usr/local/lib/python3.10/dist-packages (from aiohttp->torch_geometric) (4.0.3)\n",
            "Requirement already satisfied: six in /usr/local/lib/python3.10/dist-packages (from hyperopt->dgllife) (1.16.0)\n",
            "Requirement already satisfied: future in /usr/local/lib/python3.10/dist-packages (from hyperopt->dgllife) (1.0.0)\n",
            "Requirement already satisfied: cloudpickle in /usr/local/lib/python3.10/dist-packages (from hyperopt->dgllife) (2.2.1)\n",
            "Requirement already satisfied: py4j in /usr/local/lib/python3.10/dist-packages (from hyperopt->dgllife) (0.10.9.7)\n",
            "Requirement already satisfied: MarkupSafe>=2.0 in /usr/local/lib/python3.10/dist-packages (from jinja2->torch_geometric) (2.1.5)\n",
            "Requirement already satisfied: python-dateutil>=2.8.2 in /usr/local/lib/python3.10/dist-packages (from pandas->deepchem) (2.8.2)\n",
            "Requirement already satisfied: pytz>=2020.1 in /usr/local/lib/python3.10/dist-packages (from pandas->deepchem) (2024.2)\n",
            "Requirement already satisfied: tzdata>=2022.7 in /usr/local/lib/python3.10/dist-packages (from pandas->deepchem) (2024.2)\n",
            "Requirement already satisfied: mpmath<1.4,>=1.1.0 in /usr/local/lib/python3.10/dist-packages (from sympy->deepchem) (1.3.0)\n",
            "Requirement already satisfied: typing-extensions>=4.1.0 in /usr/local/lib/python3.10/dist-packages (from multidict<7.0,>=4.5->aiohttp->torch_geometric) (4.12.2)\n",
            "Downloading rdkit-2024.3.5-cp310-cp310-manylinux_2_28_x86_64.whl (33.1 MB)\n",
            "\u001b[2K   \u001b[90m━━━━━━━━━━━━━━━━━━━━━━━━━━━━━━━━━━━━━━━━\u001b[0m \u001b[32m33.1/33.1 MB\u001b[0m \u001b[31m54.3 MB/s\u001b[0m eta \u001b[36m0:00:00\u001b[0m\n",
            "\u001b[?25hDownloading deepchem-2.8.0-py3-none-any.whl (1.0 MB)\n",
            "\u001b[2K   \u001b[90m━━━━━━━━━━━━━━━━━━━━━━━━━━━━━━━━━━━━━━━━\u001b[0m \u001b[32m1.0/1.0 MB\u001b[0m \u001b[31m49.2 MB/s\u001b[0m eta \u001b[36m0:00:00\u001b[0m\n",
            "\u001b[?25hDownloading torch_geometric-2.6.1-py3-none-any.whl (1.1 MB)\n",
            "\u001b[2K   \u001b[90m━━━━━━━━━━━━━━━━━━━━━━━━━━━━━━━━━━━━━━━━\u001b[0m \u001b[32m1.1/1.1 MB\u001b[0m \u001b[31m64.1 MB/s\u001b[0m eta \u001b[36m0:00:00\u001b[0m\n",
            "\u001b[?25hDownloading dgllife-0.3.2-py3-none-any.whl (226 kB)\n",
            "\u001b[2K   \u001b[90m━━━━━━━━━━━━━━━━━━━━━━━━━━━━━━━━━━━━━━━━\u001b[0m \u001b[32m226.1/226.1 kB\u001b[0m \u001b[31m19.3 MB/s\u001b[0m eta \u001b[36m0:00:00\u001b[0m\n",
            "\u001b[?25hInstalling collected packages: rdkit, dgllife, deepchem, torch_geometric\n",
            "Successfully installed deepchem-2.8.0 dgllife-0.3.2 rdkit-2024.3.5 torch_geometric-2.6.1\n",
            "Looking in links: https://download.pytorch.org/whl/cu118/torch_stable.html\n",
            "Collecting torch==2.2.1+cu118\n",
            "  Downloading https://download.pytorch.org/whl/cu118/torch-2.2.1%2Bcu118-cp310-cp310-linux_x86_64.whl (819.2 MB)\n",
            "\u001b[2K     \u001b[90m━━━━━━━━━━━━━━━━━━━━━━━━━━━━━━━━━━━━━━━━\u001b[0m \u001b[32m819.2/819.2 MB\u001b[0m \u001b[31m2.5 MB/s\u001b[0m eta \u001b[36m0:00:00\u001b[0m\n",
            "\u001b[?25hRequirement already satisfied: filelock in /usr/local/lib/python3.10/dist-packages (from torch==2.2.1+cu118) (3.16.1)\n",
            "Requirement already satisfied: typing-extensions>=4.8.0 in /usr/local/lib/python3.10/dist-packages (from torch==2.2.1+cu118) (4.12.2)\n",
            "Requirement already satisfied: sympy in /usr/local/lib/python3.10/dist-packages (from torch==2.2.1+cu118) (1.13.3)\n",
            "Requirement already satisfied: networkx in /usr/local/lib/python3.10/dist-packages (from torch==2.2.1+cu118) (3.3)\n",
            "Requirement already satisfied: jinja2 in /usr/local/lib/python3.10/dist-packages (from torch==2.2.1+cu118) (3.1.4)\n",
            "Requirement already satisfied: fsspec in /usr/local/lib/python3.10/dist-packages (from torch==2.2.1+cu118) (2024.6.1)\n",
            "Collecting nvidia-cuda-nvrtc-cu11==11.8.89 (from torch==2.2.1+cu118)\n",
            "  Downloading nvidia_cuda_nvrtc_cu11-11.8.89-py3-none-manylinux2014_x86_64.whl.metadata (1.5 kB)\n",
            "Collecting nvidia-cuda-runtime-cu11==11.8.89 (from torch==2.2.1+cu118)\n",
            "  Downloading nvidia_cuda_runtime_cu11-11.8.89-py3-none-manylinux2014_x86_64.whl.metadata (1.5 kB)\n",
            "Collecting nvidia-cuda-cupti-cu11==11.8.87 (from torch==2.2.1+cu118)\n",
            "  Downloading nvidia_cuda_cupti_cu11-11.8.87-py3-none-manylinux2014_x86_64.whl.metadata (1.6 kB)\n",
            "Collecting nvidia-cudnn-cu11==8.7.0.84 (from torch==2.2.1+cu118)\n",
            "  Downloading nvidia_cudnn_cu11-8.7.0.84-py3-none-manylinux1_x86_64.whl.metadata (1.6 kB)\n",
            "Collecting nvidia-cublas-cu11==11.11.3.6 (from torch==2.2.1+cu118)\n",
            "  Downloading nvidia_cublas_cu11-11.11.3.6-py3-none-manylinux2014_x86_64.whl.metadata (1.5 kB)\n",
            "Collecting nvidia-cufft-cu11==10.9.0.58 (from torch==2.2.1+cu118)\n",
            "  Downloading nvidia_cufft_cu11-10.9.0.58-py3-none-manylinux2014_x86_64.whl.metadata (1.5 kB)\n",
            "Collecting nvidia-curand-cu11==10.3.0.86 (from torch==2.2.1+cu118)\n",
            "  Downloading nvidia_curand_cu11-10.3.0.86-py3-none-manylinux2014_x86_64.whl.metadata (1.5 kB)\n",
            "Collecting nvidia-cusolver-cu11==11.4.1.48 (from torch==2.2.1+cu118)\n",
            "  Downloading nvidia_cusolver_cu11-11.4.1.48-py3-none-manylinux2014_x86_64.whl.metadata (1.6 kB)\n",
            "Collecting nvidia-cusparse-cu11==11.7.5.86 (from torch==2.2.1+cu118)\n",
            "  Downloading nvidia_cusparse_cu11-11.7.5.86-py3-none-manylinux2014_x86_64.whl.metadata (1.5 kB)\n",
            "Collecting nvidia-nccl-cu11==2.19.3 (from torch==2.2.1+cu118)\n",
            "  Downloading nvidia_nccl_cu11-2.19.3-py3-none-manylinux1_x86_64.whl.metadata (1.8 kB)\n",
            "Collecting nvidia-nvtx-cu11==11.8.86 (from torch==2.2.1+cu118)\n",
            "  Downloading nvidia_nvtx_cu11-11.8.86-py3-none-manylinux2014_x86_64.whl.metadata (1.7 kB)\n",
            "Collecting triton==2.2.0 (from torch==2.2.1+cu118)\n",
            "  Downloading triton-2.2.0-cp310-cp310-manylinux_2_17_x86_64.manylinux2014_x86_64.whl.metadata (1.4 kB)\n",
            "Requirement already satisfied: MarkupSafe>=2.0 in /usr/local/lib/python3.10/dist-packages (from jinja2->torch==2.2.1+cu118) (2.1.5)\n",
            "Requirement already satisfied: mpmath<1.4,>=1.1.0 in /usr/local/lib/python3.10/dist-packages (from sympy->torch==2.2.1+cu118) (1.3.0)\n",
            "Downloading nvidia_cublas_cu11-11.11.3.6-py3-none-manylinux2014_x86_64.whl (417.9 MB)\n",
            "\u001b[2K   \u001b[90m━━━━━━━━━━━━━━━━━━━━━━━━━━━━━━━━━━━━━━━━\u001b[0m \u001b[32m417.9/417.9 MB\u001b[0m \u001b[31m3.6 MB/s\u001b[0m eta \u001b[36m0:00:00\u001b[0m\n",
            "\u001b[?25hDownloading nvidia_cuda_cupti_cu11-11.8.87-py3-none-manylinux2014_x86_64.whl (13.1 MB)\n",
            "\u001b[2K   \u001b[90m━━━━━━━━━━━━━━━━━━━━━━━━━━━━━━━━━━━━━━━━\u001b[0m \u001b[32m13.1/13.1 MB\u001b[0m \u001b[31m103.7 MB/s\u001b[0m eta \u001b[36m0:00:00\u001b[0m\n",
            "\u001b[?25hDownloading nvidia_cuda_nvrtc_cu11-11.8.89-py3-none-manylinux2014_x86_64.whl (23.2 MB)\n",
            "\u001b[2K   \u001b[90m━━━━━━━━━━━━━━━━━━━━━━━━━━━━━━━━━━━━━━━━\u001b[0m \u001b[32m23.2/23.2 MB\u001b[0m \u001b[31m89.3 MB/s\u001b[0m eta \u001b[36m0:00:00\u001b[0m\n",
            "\u001b[?25hDownloading nvidia_cuda_runtime_cu11-11.8.89-py3-none-manylinux2014_x86_64.whl (875 kB)\n",
            "\u001b[2K   \u001b[90m━━━━━━━━━━━━━━━━━━━━━━━━━━━━━━━━━━━━━━━━\u001b[0m \u001b[32m875.6/875.6 kB\u001b[0m \u001b[31m56.7 MB/s\u001b[0m eta \u001b[36m0:00:00\u001b[0m\n",
            "\u001b[?25hDownloading nvidia_cudnn_cu11-8.7.0.84-py3-none-manylinux1_x86_64.whl (728.5 MB)\n",
            "\u001b[2K   \u001b[90m━━━━━━━━━━━━━━━━━━━━━━━━━━━━━━━━━━━━━━━━\u001b[0m \u001b[32m728.5/728.5 MB\u001b[0m \u001b[31m2.1 MB/s\u001b[0m eta \u001b[36m0:00:00\u001b[0m\n",
            "\u001b[?25hDownloading nvidia_cufft_cu11-10.9.0.58-py3-none-manylinux2014_x86_64.whl (168.4 MB)\n",
            "\u001b[2K   \u001b[90m━━━━━━━━━━━━━━━━━━━━━━━━━━━━━━━━━━━━━━━━\u001b[0m \u001b[32m168.4/168.4 MB\u001b[0m \u001b[31m6.3 MB/s\u001b[0m eta \u001b[36m0:00:00\u001b[0m\n",
            "\u001b[?25hDownloading nvidia_curand_cu11-10.3.0.86-py3-none-manylinux2014_x86_64.whl (58.1 MB)\n",
            "\u001b[2K   \u001b[90m━━━━━━━━━━━━━━━━━━━━━━━━━━━━━━━━━━━━━━━━\u001b[0m \u001b[32m58.1/58.1 MB\u001b[0m \u001b[31m17.1 MB/s\u001b[0m eta \u001b[36m0:00:00\u001b[0m\n",
            "\u001b[?25hDownloading nvidia_cusolver_cu11-11.4.1.48-py3-none-manylinux2014_x86_64.whl (128.2 MB)\n",
            "\u001b[2K   \u001b[90m━━━━━━━━━━━━━━━━━━━━━━━━━━━━━━━━━━━━━━━━\u001b[0m \u001b[32m128.2/128.2 MB\u001b[0m \u001b[31m7.2 MB/s\u001b[0m eta \u001b[36m0:00:00\u001b[0m\n",
            "\u001b[?25hDownloading nvidia_cusparse_cu11-11.7.5.86-py3-none-manylinux2014_x86_64.whl (204.1 MB)\n",
            "\u001b[2K   \u001b[90m━━━━━━━━━━━━━━━━━━━━━━━━━━━━━━━━━━━━━━━━\u001b[0m \u001b[32m204.1/204.1 MB\u001b[0m \u001b[31m5.8 MB/s\u001b[0m eta \u001b[36m0:00:00\u001b[0m\n",
            "\u001b[?25hDownloading nvidia_nccl_cu11-2.19.3-py3-none-manylinux1_x86_64.whl (135.3 MB)\n",
            "\u001b[2K   \u001b[90m━━━━━━━━━━━━━━━━━━━━━━━━━━━━━━━━━━━━━━━━\u001b[0m \u001b[32m135.3/135.3 MB\u001b[0m \u001b[31m7.0 MB/s\u001b[0m eta \u001b[36m0:00:00\u001b[0m\n",
            "\u001b[?25hDownloading nvidia_nvtx_cu11-11.8.86-py3-none-manylinux2014_x86_64.whl (99 kB)\n",
            "\u001b[2K   \u001b[90m━━━━━━━━━━━━━━━━━━━━━━━━━━━━━━━━━━━━━━━━\u001b[0m \u001b[32m99.1/99.1 kB\u001b[0m \u001b[31m9.8 MB/s\u001b[0m eta \u001b[36m0:00:00\u001b[0m\n",
            "\u001b[?25hDownloading triton-2.2.0-cp310-cp310-manylinux_2_17_x86_64.manylinux2014_x86_64.whl (167.9 MB)\n",
            "\u001b[2K   \u001b[90m━━━━━━━━━━━━━━━━━━━━━━━━━━━━━━━━━━━━━━━━\u001b[0m \u001b[32m167.9/167.9 MB\u001b[0m \u001b[31m6.3 MB/s\u001b[0m eta \u001b[36m0:00:00\u001b[0m\n",
            "\u001b[?25hInstalling collected packages: triton, nvidia-nvtx-cu11, nvidia-nccl-cu11, nvidia-cusparse-cu11, nvidia-curand-cu11, nvidia-cufft-cu11, nvidia-cuda-runtime-cu11, nvidia-cuda-nvrtc-cu11, nvidia-cuda-cupti-cu11, nvidia-cublas-cu11, nvidia-cusolver-cu11, nvidia-cudnn-cu11, torch\n",
            "  Attempting uninstall: torch\n",
            "    Found existing installation: torch 2.4.1+cu121\n",
            "    Uninstalling torch-2.4.1+cu121:\n",
            "      Successfully uninstalled torch-2.4.1+cu121\n",
            "\u001b[31mERROR: pip's dependency resolver does not currently take into account all the packages that are installed. This behaviour is the source of the following dependency conflicts.\n",
            "torchaudio 2.4.1+cu121 requires torch==2.4.1, but you have torch 2.2.1+cu118 which is incompatible.\n",
            "torchvision 0.19.1+cu121 requires torch==2.4.1, but you have torch 2.2.1+cu118 which is incompatible.\u001b[0m\u001b[31m\n",
            "\u001b[0mSuccessfully installed nvidia-cublas-cu11-11.11.3.6 nvidia-cuda-cupti-cu11-11.8.87 nvidia-cuda-nvrtc-cu11-11.8.89 nvidia-cuda-runtime-cu11-11.8.89 nvidia-cudnn-cu11-8.7.0.84 nvidia-cufft-cu11-10.9.0.58 nvidia-curand-cu11-10.3.0.86 nvidia-cusolver-cu11-11.4.1.48 nvidia-cusparse-cu11-11.7.5.86 nvidia-nccl-cu11-2.19.3 nvidia-nvtx-cu11-11.8.86 torch-2.2.1+cu118 triton-2.2.0\n",
            "Looking in links: https://data.dgl.ai/wheels/torch-2.2/cu121/repo.html\n",
            "Collecting dgl\n",
            "  Downloading https://data.dgl.ai/wheels/torch-2.2/cu121/dgl-2.4.0%2Bcu121-cp310-cp310-manylinux1_x86_64.whl (483.9 MB)\n",
            "\u001b[2K     \u001b[90m━━━━━━━━━━━━━━━━━━━━━━━━━━━━━━━━━━━━━━━━\u001b[0m \u001b[32m483.9/483.9 MB\u001b[0m \u001b[31m3.4 MB/s\u001b[0m eta \u001b[36m0:00:00\u001b[0m\n",
            "\u001b[?25hRequirement already satisfied: networkx>=2.1 in /usr/local/lib/python3.10/dist-packages (from dgl) (3.3)\n",
            "Requirement already satisfied: numpy>=1.14.0 in /usr/local/lib/python3.10/dist-packages (from dgl) (1.26.4)\n",
            "Requirement already satisfied: packaging in /usr/local/lib/python3.10/dist-packages (from dgl) (24.1)\n",
            "Requirement already satisfied: pandas in /usr/local/lib/python3.10/dist-packages (from dgl) (2.2.2)\n",
            "Requirement already satisfied: psutil>=5.8.0 in /usr/local/lib/python3.10/dist-packages (from dgl) (5.9.5)\n",
            "Requirement already satisfied: pydantic>=2.0 in /usr/local/lib/python3.10/dist-packages (from dgl) (2.9.2)\n",
            "Requirement already satisfied: pyyaml in /usr/local/lib/python3.10/dist-packages (from dgl) (6.0.2)\n",
            "Requirement already satisfied: requests>=2.19.0 in /usr/local/lib/python3.10/dist-packages (from dgl) (2.32.3)\n",
            "Requirement already satisfied: scipy>=1.1.0 in /usr/local/lib/python3.10/dist-packages (from dgl) (1.13.1)\n",
            "Requirement already satisfied: tqdm in /usr/local/lib/python3.10/dist-packages (from dgl) (4.66.5)\n",
            "Requirement already satisfied: torch<=2.4.0 in /usr/local/lib/python3.10/dist-packages (from dgl) (2.2.1+cu118)\n",
            "Requirement already satisfied: annotated-types>=0.6.0 in /usr/local/lib/python3.10/dist-packages (from pydantic>=2.0->dgl) (0.7.0)\n",
            "Requirement already satisfied: pydantic-core==2.23.4 in /usr/local/lib/python3.10/dist-packages (from pydantic>=2.0->dgl) (2.23.4)\n",
            "Requirement already satisfied: typing-extensions>=4.6.1 in /usr/local/lib/python3.10/dist-packages (from pydantic>=2.0->dgl) (4.12.2)\n",
            "Requirement already satisfied: charset-normalizer<4,>=2 in /usr/local/lib/python3.10/dist-packages (from requests>=2.19.0->dgl) (3.3.2)\n",
            "Requirement already satisfied: idna<4,>=2.5 in /usr/local/lib/python3.10/dist-packages (from requests>=2.19.0->dgl) (3.10)\n",
            "Requirement already satisfied: urllib3<3,>=1.21.1 in /usr/local/lib/python3.10/dist-packages (from requests>=2.19.0->dgl) (2.2.3)\n",
            "Requirement already satisfied: certifi>=2017.4.17 in /usr/local/lib/python3.10/dist-packages (from requests>=2.19.0->dgl) (2024.8.30)\n",
            "Requirement already satisfied: filelock in /usr/local/lib/python3.10/dist-packages (from torch<=2.4.0->dgl) (3.16.1)\n",
            "Requirement already satisfied: sympy in /usr/local/lib/python3.10/dist-packages (from torch<=2.4.0->dgl) (1.13.3)\n",
            "Requirement already satisfied: jinja2 in /usr/local/lib/python3.10/dist-packages (from torch<=2.4.0->dgl) (3.1.4)\n",
            "Requirement already satisfied: fsspec in /usr/local/lib/python3.10/dist-packages (from torch<=2.4.0->dgl) (2024.6.1)\n",
            "Requirement already satisfied: nvidia-cuda-nvrtc-cu11==11.8.89 in /usr/local/lib/python3.10/dist-packages (from torch<=2.4.0->dgl) (11.8.89)\n",
            "Requirement already satisfied: nvidia-cuda-runtime-cu11==11.8.89 in /usr/local/lib/python3.10/dist-packages (from torch<=2.4.0->dgl) (11.8.89)\n",
            "Requirement already satisfied: nvidia-cuda-cupti-cu11==11.8.87 in /usr/local/lib/python3.10/dist-packages (from torch<=2.4.0->dgl) (11.8.87)\n",
            "Requirement already satisfied: nvidia-cudnn-cu11==8.7.0.84 in /usr/local/lib/python3.10/dist-packages (from torch<=2.4.0->dgl) (8.7.0.84)\n",
            "Requirement already satisfied: nvidia-cublas-cu11==11.11.3.6 in /usr/local/lib/python3.10/dist-packages (from torch<=2.4.0->dgl) (11.11.3.6)\n",
            "Requirement already satisfied: nvidia-cufft-cu11==10.9.0.58 in /usr/local/lib/python3.10/dist-packages (from torch<=2.4.0->dgl) (10.9.0.58)\n",
            "Requirement already satisfied: nvidia-curand-cu11==10.3.0.86 in /usr/local/lib/python3.10/dist-packages (from torch<=2.4.0->dgl) (10.3.0.86)\n",
            "Requirement already satisfied: nvidia-cusolver-cu11==11.4.1.48 in /usr/local/lib/python3.10/dist-packages (from torch<=2.4.0->dgl) (11.4.1.48)\n",
            "Requirement already satisfied: nvidia-cusparse-cu11==11.7.5.86 in /usr/local/lib/python3.10/dist-packages (from torch<=2.4.0->dgl) (11.7.5.86)\n",
            "Requirement already satisfied: nvidia-nccl-cu11==2.19.3 in /usr/local/lib/python3.10/dist-packages (from torch<=2.4.0->dgl) (2.19.3)\n",
            "Requirement already satisfied: nvidia-nvtx-cu11==11.8.86 in /usr/local/lib/python3.10/dist-packages (from torch<=2.4.0->dgl) (11.8.86)\n",
            "Requirement already satisfied: triton==2.2.0 in /usr/local/lib/python3.10/dist-packages (from torch<=2.4.0->dgl) (2.2.0)\n",
            "Requirement already satisfied: python-dateutil>=2.8.2 in /usr/local/lib/python3.10/dist-packages (from pandas->dgl) (2.8.2)\n",
            "Requirement already satisfied: pytz>=2020.1 in /usr/local/lib/python3.10/dist-packages (from pandas->dgl) (2024.2)\n",
            "Requirement already satisfied: tzdata>=2022.7 in /usr/local/lib/python3.10/dist-packages (from pandas->dgl) (2024.2)\n",
            "Requirement already satisfied: six>=1.5 in /usr/local/lib/python3.10/dist-packages (from python-dateutil>=2.8.2->pandas->dgl) (1.16.0)\n",
            "Requirement already satisfied: MarkupSafe>=2.0 in /usr/local/lib/python3.10/dist-packages (from jinja2->torch<=2.4.0->dgl) (2.1.5)\n",
            "Requirement already satisfied: mpmath<1.4,>=1.1.0 in /usr/local/lib/python3.10/dist-packages (from sympy->torch<=2.4.0->dgl) (1.3.0)\n",
            "Installing collected packages: dgl\n",
            "Successfully installed dgl-2.4.0+cu121\n"
          ]
        }
      ],
      "source": [
        "# %%capture --no-stderr\n",
        "! pip install rdkit deepchem torch_geometric dgllife\n",
        "! pip install -f https://download.pytorch.org/whl/cu118/torch_stable.html torch==2.2.1+cu118\n",
        "! pip install  dgl -f https://data.dgl.ai/wheels/torch-2.2/cu121/repo.html"
      ]
    },
    {
      "cell_type": "code",
      "execution_count": null,
      "metadata": {
        "colab": {
          "base_uri": "https://localhost:8080/"
        },
        "collapsed": true,
        "id": "dZKLuc_C_Jjs",
        "outputId": "eac922e2-ec96-4029-a525-d542312ba633"
      },
      "outputs": [
        {
          "output_type": "stream",
          "name": "stderr",
          "text": [
            "WARNING:deepchem.feat.molecule_featurizers.rdkit_descriptors:No normalization for SPS. Feature removed!\n",
            "WARNING:deepchem.feat.molecule_featurizers.rdkit_descriptors:No normalization for AvgIpc. Feature removed!\n",
            "WARNING:tensorflow:From /usr/local/lib/python3.10/dist-packages/tensorflow/python/util/deprecation.py:588: calling function (from tensorflow.python.eager.polymorphic_function.polymorphic_function) with experimental_relax_shapes is deprecated and will be removed in a future version.\n",
            "Instructions for updating:\n",
            "experimental_relax_shapes is deprecated, use reduce_retracing instead\n",
            "DGL backend not selected or invalid.  Assuming PyTorch for now.\n"
          ]
        },
        {
          "output_type": "stream",
          "name": "stdout",
          "text": [
            "Setting the default backend to \"pytorch\". You can change it in the ~/.dgl/config.json file or export the DGLBACKEND environment variable.  Valid options are: pytorch, mxnet, tensorflow (all lowercase)\n"
          ]
        },
        {
          "output_type": "stream",
          "name": "stderr",
          "text": [
            "WARNING:deepchem.models:Skipped loading modules with pytorch-lightning dependency, missing a dependency. No module named 'lightning'\n",
            "WARNING:deepchem.models:Skipped loading some Jax models, missing a dependency. No module named 'haiku'\n"
          ]
        }
      ],
      "source": [
        "import deepchem as dc"
      ]
    },
    {
      "cell_type": "code",
      "execution_count": null,
      "metadata": {
        "id": "36xHJU2gkvcF"
      },
      "outputs": [],
      "source": [
        "# imports\n",
        "from deepchem.feat.molecule_featurizers import MATFeaturizer, MolGraphConvFeaturizer, DMPNNFeaturizer\n",
        "from deepchem.models.torch_models import GCNModel, MATModel, DMPNNModel\n",
        "from deepchem.data import NumpyDataset, CSVLoader\n",
        "import numpy\n",
        "from sklearn.model_selection import train_test_split\n",
        "from deepchem.metrics import mean_squared_error, Metric, accuracy_score\n",
        "import pandas as pd\n",
        "from deepchem.models.losses import SparseSoftmaxCrossEntropy\n",
        "from rdkit.Chem import AllChem\n",
        "from rdkit import Chem\n",
        "import torch\n",
        "import uuid\n",
        "import os\n",
        "import json"
      ]
    },
    {
      "cell_type": "markdown",
      "metadata": {
        "id": "xnpNTYKIOwGo"
      },
      "source": [
        "### Weighted Directed Graphs Featurization"
      ]
    },
    {
      "cell_type": "code",
      "execution_count": null,
      "metadata": {
        "id": "4cOygk6LO-VV"
      },
      "outputs": [],
      "source": [
        "def make_mol(s: str, keep_h: bool, add_h: bool):\n",
        "    \"\"\"\n",
        "    Builds an RDKit molecule from a SMILES string.\n",
        "    \"\"\"\n",
        "    if keep_h:\n",
        "        mol = Chem.MolFromSmiles(s, sanitize = False)\n",
        "        Chem.SanitizeMol(mol, sanitizeOps = Chem.SanitizeFlags.SANITIZE_ALL^Chem.SanitizeFlags.SANITIZE_ADJUSTHS)\n",
        "    else:\n",
        "        mol = Chem.MolFromSmiles(s)\n",
        "    if add_h:\n",
        "        mol = Chem.AddHs(mol)\n",
        "    return mol\n",
        "\n",
        "\n",
        "def make_polymer_mol(smiles: str, keep_h: bool, add_h: bool, fragment_weights: list):\n",
        "    \"\"\"\n",
        "    Builds an RDKit molecule from a SMILES string.\n",
        "    \"\"\"\n",
        "\n",
        "    # check input is correct, we need the same number of fragments and their weights\n",
        "    num_frags = len(smiles.split('.'))\n",
        "    if len(fragment_weights) != num_frags:\n",
        "        raise ValueError(f'number of input monomers/fragments ({num_frags}) does not match number of '\n",
        "                         f'input number of weights ({len(fragment_weights)})')\n",
        "\n",
        "    # if it all looks good, we create one molecule object per fragment, add the weight as property\n",
        "    # of each atom, and merge fragments into a single molecule object\n",
        "    mols = []\n",
        "    for s, w in zip(smiles.split('.'), fragment_weights):\n",
        "        m = make_mol(s, keep_h, add_h)\n",
        "        for a in m.GetAtoms():\n",
        "            a.SetDoubleProp('w_frag', float(w)) # assinging metadata to store the weight fragment of the monomer\n",
        "        mols.append(m)\n",
        "\n",
        "    # combine all mols into single mol object\n",
        "    mol = mols.pop(0)\n",
        "    while len(mols) > 0:\n",
        "        m2 = mols.pop(0)\n",
        "        mol = Chem.CombineMols(mol, m2)\n",
        "\n",
        "    return mol"
      ]
    },
    {
      "cell_type": "code",
      "execution_count": null,
      "metadata": {
        "id": "dA-GuBEBPHZD"
      },
      "outputs": [],
      "source": [
        "from collections import Counter\n",
        "import numpy as np\n",
        "def parse_polymer_rules(rules):\n",
        "    \"\"\"\n",
        "    converting probabilty weight distribution details from string to list of tuples to (start, end, weight_forward, weight_reverse)\n",
        "    \"\"\"\n",
        "    polymer_info = []\n",
        "    counter = Counter()  # used for validating the input\n",
        "\n",
        "    # check if deg of polymerization is provided\n",
        "    if '~' in rules[-1]:\n",
        "        Xn = float(rules[-1].split('~')[1])\n",
        "        rules[-1] = rules[-1].split('~')[0]\n",
        "    else:\n",
        "        Xn = 1.\n",
        "\n",
        "    for rule in rules:\n",
        "        # handle edge case where we have no rules, and rule is empty string\n",
        "        if rule == \"\":\n",
        "            continue\n",
        "        # QC of input string\n",
        "        if len(rule.split(':')) != 3:\n",
        "            raise ValueError(f'incorrect format for input information \"{rule}\"')\n",
        "        idx1, idx2 = rule.split(':')[0].split('-')\n",
        "        w12 = float(rule.split(':')[1])  # weight for bond R_idx1 -> R_idx2\n",
        "        w21 = float(rule.split(':')[2])  # weight for bond R_idx2 -> R_idx1\n",
        "        polymer_info.append((idx1, idx2, w12, w21))\n",
        "        counter[idx1] += float(w21)\n",
        "        counter[idx2] += float(w12)\n",
        "\n",
        "    # validate input: sum of incoming weights should be one for each vertex\n",
        "    for k, v in counter.items():\n",
        "        if np.isclose(v, 1.0) is False:\n",
        "            raise ValueError(f'sum of weights of incoming stochastic edges should be 1 -- found {v} for [*:{k}]')\n",
        "    return polymer_info, 1. + np.log10(Xn)"
      ]
    },
    {
      "cell_type": "code",
      "execution_count": null,
      "metadata": {
        "id": "ZK0C1H8lPMDS"
      },
      "outputs": [],
      "source": [
        "def tag_atoms_in_repeating_unit(mol):\n",
        "    \"\"\"\n",
        "    Tags atoms that are part of the core units, as well as atoms serving to identify attachment points. In addition,\n",
        "    create a map of bond types based on what bonds are connected to R groups in the input.\n",
        "    \"\"\"\n",
        "    atoms = [a for a in mol.GetAtoms()]\n",
        "    neighbor_map = {}  # map R group to index of atom it is attached to\n",
        "    r_bond_types = {}  # map R group to bond type\n",
        "\n",
        "    # go through each atoms and: (i) get index of attachment atoms, (ii) tag all non-R atoms\n",
        "    for atom in atoms:\n",
        "        # if R atom\n",
        "        if '*' in atom.GetSmarts():\n",
        "            # get index of atom it is attached to\n",
        "            neighbors = atom.GetNeighbors()\n",
        "            assert len(neighbors) == 1\n",
        "            neighbor_idx = neighbors[0].GetIdx()\n",
        "            r_tag = atom.GetSmarts().strip('[]').replace(':', '')  # *1, *2, ...\n",
        "            neighbor_map[r_tag] = neighbor_idx\n",
        "            # tag it as non-core atom\n",
        "            atom.SetBoolProp('core', False)\n",
        "            # create a map R --> bond type\n",
        "            bond = mol.GetBondBetweenAtoms(atom.GetIdx(), neighbor_idx)\n",
        "            r_bond_types[r_tag] = bond.GetBondType()\n",
        "        # if not R atom\n",
        "        else:\n",
        "            # tag it as core atom\n",
        "            atom.SetBoolProp('core', True)\n",
        "\n",
        "    # use the map created to tag attachment atoms\n",
        "    for atom in atoms:\n",
        "        if atom.GetIdx() in neighbor_map.values():\n",
        "            r_tags = [k for k, v in neighbor_map.items() if v == atom.GetIdx()]\n",
        "            atom.SetProp('R', ''.join(r_tags))\n",
        "        else:\n",
        "            atom.SetProp('R', '')\n",
        "\n",
        "    return mol, r_bond_types"
      ]
    },
    {
      "cell_type": "code",
      "execution_count": null,
      "metadata": {
        "id": "PFjbDfLHPO5i"
      },
      "outputs": [],
      "source": [
        "class Featurization_parameters:\n",
        "    \"\"\"\n",
        "    A class holding standard molecule featurization parameters as attributes.\n",
        "    \"\"\"\n",
        "    def __init__(self) -> None:\n",
        "\n",
        "        # Atom feature sizes\n",
        "        self.MAX_ATOMIC_NUM = 100\n",
        "        self.ATOM_FEATURES = {\n",
        "            'atomic_num': list(range(self.MAX_ATOMIC_NUM)),\n",
        "            'degree': [0, 1, 2, 3, 4, 5],\n",
        "            'formal_charge': [-1, -2, 1, 2, 0],\n",
        "            'chiral_tag': [0, 1, 2, 3],\n",
        "            'num_Hs': [0, 1, 2, 3, 4],\n",
        "            'hybridization': [\n",
        "                Chem.rdchem.HybridizationType.SP,\n",
        "                Chem.rdchem.HybridizationType.SP2,\n",
        "                Chem.rdchem.HybridizationType.SP3,\n",
        "                Chem.rdchem.HybridizationType.SP3D,\n",
        "                Chem.rdchem.HybridizationType.SP3D2\n",
        "            ],\n",
        "        }\n",
        "\n",
        "        # Distance feature sizes\n",
        "        self.PATH_DISTANCE_BINS = list(range(10))\n",
        "        self.THREE_D_DISTANCE_MAX = 20\n",
        "        self.THREE_D_DISTANCE_STEP = 1\n",
        "        self.THREE_D_DISTANCE_BINS = list(range(0, self.THREE_D_DISTANCE_MAX + 1, self.THREE_D_DISTANCE_STEP))\n",
        "\n",
        "        # len(choices) + 1 to include room for uncommon values; + 2 at end for IsAromatic and mass\n",
        "        self.ATOM_FDIM = sum(len(choices) + 1 for choices in self.ATOM_FEATURES.values()) + 2\n",
        "        self.EXTRA_ATOM_FDIM = 0\n",
        "        self.BOND_FDIM = 14\n",
        "        self.EXTRA_BOND_FDIM = 0\n",
        "        self.REACTION_MODE = None\n",
        "        self.EXPLICIT_H = False\n",
        "        self.REACTION = False\n",
        "        self.POLYMER = False\n",
        "        self.ADDING_H = False\n",
        "\n",
        "# Create a global parameter object for reference throughout this module\n",
        "PARAMS = Featurization_parameters()"
      ]
    },
    {
      "cell_type": "code",
      "execution_count": null,
      "metadata": {
        "id": "NbYRUgI0PVTB"
      },
      "outputs": [],
      "source": [
        "def atom_features(atom: Chem.rdchem.Atom, PARAMS: Featurization_parameters, functional_groups = None):\n",
        "    \"\"\"\n",
        "    Builds a feature vector for an atom.\n",
        "    \"\"\"\n",
        "    if atom is None:\n",
        "        features = [0] * PARAMS.ATOM_FDIM\n",
        "    else:\n",
        "        features = onek_encoding_unk(atom.GetAtomicNum() - 1, PARAMS.ATOM_FEATURES['atomic_num']) + \\\n",
        "            onek_encoding_unk(atom.GetTotalDegree(), PARAMS.ATOM_FEATURES['degree']) + \\\n",
        "            onek_encoding_unk(atom.GetFormalCharge(), PARAMS.ATOM_FEATURES['formal_charge']) + \\\n",
        "            onek_encoding_unk(int(atom.GetChiralTag()), PARAMS.ATOM_FEATURES['chiral_tag']) + \\\n",
        "            onek_encoding_unk(int(atom.GetTotalNumHs()), PARAMS.ATOM_FEATURES['num_Hs']) + \\\n",
        "            onek_encoding_unk(int(atom.GetHybridization()), PARAMS.ATOM_FEATURES['hybridization']) + \\\n",
        "            [1 if atom.GetIsAromatic() else 0] + \\\n",
        "            [atom.GetMass() * 0.01]  # scaled to about the same range as other features\n",
        "        if functional_groups is not None:\n",
        "            features += functional_groups\n",
        "    return features\n",
        "\n",
        "def bond_features(bond: Chem.rdchem.Bond, PARAMS: Featurization_parameters):\n",
        "    \"\"\"\n",
        "    Builds a feature vector for a bond.\n",
        "    \"\"\"\n",
        "    if bond is None:\n",
        "        fbond = [1] + [0] * (PARAMS.BOND_FDIM - 1)\n",
        "    else:\n",
        "        bt = bond.GetBondType()\n",
        "        fbond = [\n",
        "            0,  # bond is not None\n",
        "            bt == Chem.rdchem.BondType.SINGLE,\n",
        "            bt == Chem.rdchem.BondType.DOUBLE,\n",
        "            bt == Chem.rdchem.BondType.TRIPLE,\n",
        "            bt == Chem.rdchem.BondType.AROMATIC,\n",
        "            (bond.GetIsConjugated() if bt is not None else 0),\n",
        "            (bond.IsInRing() if bt is not None else 0)\n",
        "        ]\n",
        "        fbond += onek_encoding_unk(int(bond.GetStereo()), list(range(6)))\n",
        "    return fbond"
      ]
    },
    {
      "cell_type": "code",
      "execution_count": null,
      "metadata": {
        "id": "KLirv_IBPSGy"
      },
      "outputs": [],
      "source": [
        "def onek_encoding_unk(value: int, choices):\n",
        "    \"\"\"\n",
        "    Creates a one-hot encoding with an extra category for uncommon values.\n",
        "    \"\"\"\n",
        "    encoding = [0] * (len(choices) + 1)\n",
        "    index = choices.index(value) if value in choices else -1\n",
        "    encoding[index] = 1\n",
        "\n",
        "    return encoding"
      ]
    },
    {
      "cell_type": "code",
      "execution_count": null,
      "metadata": {
        "id": "FBhk_v2IPX0w"
      },
      "outputs": [],
      "source": [
        "def remove_wildcard_atoms(rwmol):\n",
        "  \"\"\"Removes the connection virtual atoms for open bonds\"\"\"\n",
        "  indices = [a.GetIdx() for a in rwmol.GetAtoms() if '*' in a.GetSmarts()]\n",
        "  while len(indices) > 0:\n",
        "      rwmol.RemoveAtom(indices[0])\n",
        "      indices = [a.GetIdx() for a in rwmol.GetAtoms() if '*' in a.GetSmarts()]\n",
        "  Chem.SanitizeMol(rwmol, Chem.SanitizeFlags.SANITIZE_ALL)\n",
        "  return rwmol"
      ]
    },
    {
      "cell_type": "code",
      "execution_count": null,
      "metadata": {
        "id": "lI55ZP7cUq_o"
      },
      "outputs": [],
      "source": [
        "def convert_node_edge_mapping(node_edge_mapping):\n",
        "  start_map_index = []\n",
        "  end_map_index = []\n",
        "  for i,edge_list in enumerate(node_edge_mapping):\n",
        "    for edge_index in edge_list:\n",
        "      start_index = i\n",
        "      if edge_index % 2 != 0:\n",
        "        prev_check = edge_index - 1\n",
        "        for n,check_content in enumerate(node_edge_mapping):\n",
        "          if prev_check in check_content:\n",
        "            end_index = n\n",
        "            start_map_index.extend([start_index, end_index])\n",
        "            end_map_index.extend([end_index, start_index])\n",
        "            break\n",
        "  return [start_map_index, end_map_index]"
      ]
    },
    {
      "cell_type": "code",
      "execution_count": null,
      "metadata": {
        "id": "m8MXLMQQU_1_"
      },
      "outputs": [],
      "source": [
        "import re\n",
        "def smarts_to_smiles(smarts: str):\n",
        "  pattern = r\"\\*:(\\d+)\"\n",
        "  replacement = r\"\\1*\"\n",
        "  smiles = re.sub(pattern, replacement, smarts)\n",
        "  return smiles"
      ]
    },
    {
      "cell_type": "code",
      "execution_count": null,
      "metadata": {
        "id": "_7Vb_t2aUvK4"
      },
      "outputs": [],
      "source": [
        "# testing featurization compatibility\n",
        "def get_valid_smiles(smarts):\n",
        "  smile = smarts_to_smiles(smarts)\n",
        "  smile = smile.split(\"|\")[0]\n",
        "  return smile"
      ]
    },
    {
      "cell_type": "code",
      "execution_count": null,
      "metadata": {
        "id": "-ZLtL_fQUUb1"
      },
      "outputs": [],
      "source": [
        "from copy import deepcopy"
      ]
    },
    {
      "cell_type": "code",
      "execution_count": null,
      "metadata": {
        "id": "HTPDvLzbPgJn"
      },
      "outputs": [],
      "source": [
        "from deepchem.feat.graph_data import GraphData\n",
        "\n",
        "class CustomWeightedDirectedGraphFeaturizer():\n",
        "  def __init__(self, atom_fdim = 133, bond_fdim=147):\n",
        "    self.atom_fdim = atom_fdim\n",
        "    self.bond_fdim = bond_fdim\n",
        "\n",
        "  def _featurize(self, mol_string):\n",
        "    # -----------------\n",
        "    # Featurization Logic\n",
        "    # -----------------\n",
        "\n",
        "    n_atoms = 0  # number of atoms\n",
        "    degree_of_polym = 1  # degree of polymerization\n",
        "    n_bonds = 0  # number of bonds\n",
        "    f_atoms = []  # mapping from atom index to atom features\n",
        "    f_bonds = []  # mapping from bond index to concat(in_atom, bond) features\n",
        "    w_bonds = []  # mapping from bond index to bond weight\n",
        "    w_atoms = []  # mapping from atom index to atom weight\n",
        "    a2b = []  # mapping from atom index to incoming bond indices\n",
        "    b2a = []  # mapping from bond index to the index of the atom the bond is coming from\n",
        "    b2revb = [] # mapping from bond index to the index of the reverse bond\n",
        "    atom_features_extra = None\n",
        "    overwrite_default_atom_features = True\n",
        "    bond_features_extra = None\n",
        "    overwrite_default_bond_features = False\n",
        "\n",
        "\n",
        "    m = make_polymer_mol(mol_string.split(\"|\")[0], keep_h=False, add_h=False, fragment_weights=mol_string.split(\"|\")[1:-1])\n",
        "    rules = mol_string.split(\"<\")[1:]  # [str], list of rules\n",
        "    polymer_info, degree_of_polym = parse_polymer_rules(rules)\n",
        "    # make molecule editable\n",
        "    rwmol = Chem.rdchem.RWMol(m)\n",
        "    # tag (i) attachment atoms and (ii) atoms for which features needs to be computed\n",
        "    # also get map of R groups to bonds types, e.f. r_bond_types[*1] -> SINGLE\n",
        "    rwmol, r_bond_types = tag_atoms_in_repeating_unit(rwmol)\n",
        "\n",
        "    # -----------------\n",
        "    # Get atom features\n",
        "    # -----------------\n",
        "    # for all 'core' atoms, i.e. not R groups, as tagged before. Do this here so that atoms linked to\n",
        "    # R groups have the correct saturation\n",
        "    f_atoms = [atom_features(atom, PARAMS) for atom in rwmol.GetAtoms() if atom.GetBoolProp('core') is True]\n",
        "    w_atoms = [atom.GetDoubleProp('w_frag') for atom in rwmol.GetAtoms() if atom.GetBoolProp('core') is True]\n",
        "\n",
        "    if atom_features_extra is not None:\n",
        "      if overwrite_default_atom_features:\n",
        "        f_atoms = [descs.tolist() for descs in atom_features_extra]\n",
        "      else:\n",
        "        f_atoms = [f_atoms + descs.tolist() for f_atoms, descs in zip(f_atoms, atom_features_extra)]\n",
        "\n",
        "    n_atoms = len(f_atoms)\n",
        "    if atom_features_extra is not None and len(atom_features_extra) != n_atoms:\n",
        "      raise ValueError(f'The number of atoms in {Chem.MolToSmiles(rwmol)} is different from the length of '\n",
        "                                    f'the extra atom features')\n",
        "\n",
        "    # remove R groups -> now atoms in rdkit Mol object have the same order as self.f_atoms\n",
        "    rwmol = remove_wildcard_atoms(rwmol)\n",
        "\n",
        "    # Initialize atom to bond mapping for each atom\n",
        "    for _ in range(n_atoms):\n",
        "      a2b.append([])\n",
        "\n",
        "    # ---------------------------------------\n",
        "    # Get bond features for separate monomers\n",
        "    # ---------------------------------------\n",
        "    for a1 in range(n_atoms):\n",
        "      for a2 in range(a1 + 1, n_atoms):\n",
        "        bond = rwmol.GetBondBetweenAtoms(a1, a2)\n",
        "        if bond is None:\n",
        "          continue\n",
        "\n",
        "        f_bond = bond_features(bond, PARAMS)\n",
        "        if bond_features_extra is not None:\n",
        "          descr = bond_features_extra[bond.GetIdx()].tolist()\n",
        "          if overwrite_default_bond_features:\n",
        "            f_bond = descr\n",
        "          else:\n",
        "            f_bond += descr\n",
        "\n",
        "        f_bonds.append(f_atoms[a1] + f_bond)\n",
        "        f_bonds.append(f_atoms[a2] + f_bond)\n",
        "\n",
        "        # Update index mappings\n",
        "        b1 = n_bonds\n",
        "        b2 = b1 + 1\n",
        "        a2b[a2].append(b1)  # b1 = a1 --> a2\n",
        "        b2a.append(a1)\n",
        "        a2b[a1].append(b2)  # b2 = a2 --> a1\n",
        "        b2a.append(a2)\n",
        "        b2revb.append(b2)\n",
        "        b2revb.append(b1)\n",
        "        w_bonds.extend([1.0, 1.0])  # edge weights of 1.\n",
        "        n_bonds += 2\n",
        "\n",
        "    # ---------------------------------------------------\n",
        "    # Get bond features for bonds between repeating units\n",
        "    # ---------------------------------------------------\n",
        "    # we duplicate the monomers present to allow (i) creating bonds that exist already within the same\n",
        "    # molecule, and (ii) collect the correct bond features, e.g., for bonds that would otherwise be\n",
        "    # considered in a ring when they are not, when e.g. creating a bond between 2 atoms in the same ring.\n",
        "    rwmol_copy = deepcopy(rwmol)\n",
        "    _ = [a.SetBoolProp('OrigMol', True) for a in rwmol.GetAtoms()]\n",
        "    _ = [a.SetBoolProp('OrigMol', False) for a in rwmol_copy.GetAtoms()]\n",
        "    # create an editable combined molecule\n",
        "    cm = Chem.CombineMols(rwmol, rwmol_copy)\n",
        "    cm = Chem.RWMol(cm)\n",
        "    # show_mol(cm)\n",
        "\n",
        "    # for all possible bonds between monomers:\n",
        "    # add bond -> compute bond features -> add to bond list -> remove bond\n",
        "    for r1, r2, w_bond12, w_bond21 in polymer_info:\n",
        "      # get index of attachment atoms\n",
        "      a1 = None  # idx of atom 1 in rwmol\n",
        "      a2 = None  # idx of atom 1 in rwmol --> to be used by MolGraph\n",
        "      _a2 = None  # idx of atom 1 in cm --> to be used by RDKit\n",
        "      # print(r1,r2)\n",
        "      for atom in cm.GetAtoms():\n",
        "        # print(atom.GetProp('R'))\n",
        "        # take a1 from a fragment in the original molecule object\n",
        "        if f'{r1}*' in atom.GetProp('R') and atom.GetBoolProp('OrigMol') is True:\n",
        "          a1 = atom.GetIdx()\n",
        "        # take _a2 from a fragment in the copied molecule object, but a2 from the original\n",
        "        if f'{r2}*' in atom.GetProp('R'):\n",
        "          if atom.GetBoolProp('OrigMol') is True:\n",
        "            a2 = atom.GetIdx()\n",
        "          elif atom.GetBoolProp('OrigMol') is False:\n",
        "            _a2 = atom.GetIdx()\n",
        "\n",
        "      if a1 is None:\n",
        "        raise ValueError(f'cannot find atom attached to [*:{r1}]')\n",
        "      if a2 is None or _a2 is None:\n",
        "        raise ValueError(f'cannot find atom attached to [*:{r2}]')\n",
        "      # create bond\n",
        "      order1 = r_bond_types[f'{r1}*']\n",
        "      order2 = r_bond_types[f'{r2}*']\n",
        "      if order1 != order2:\n",
        "        raise ValueError(f'two atoms are trying to be bonded with different bond types: '\n",
        "                                        f'{order1} vs {order2}')\n",
        "      cm.AddBond(a1, _a2, order=order1)\n",
        "      Chem.SanitizeMol(cm, Chem.SanitizeFlags.SANITIZE_ALL)\n",
        "\n",
        "      # get bond object and features\n",
        "      bond = cm.GetBondBetweenAtoms(a1, _a2)\n",
        "      f_bond = bond_features(bond, PARAMS)\n",
        "      if bond_features_extra is not None:\n",
        "        descr = bond_features_extra[bond.GetIdx()].tolist()\n",
        "        if overwrite_default_bond_features:\n",
        "          f_bond = descr\n",
        "        else:\n",
        "          f_bond += descr\n",
        "\n",
        "      f_bonds.append(f_atoms[a1] + f_bond)\n",
        "      f_bonds.append(f_atoms[a2] + f_bond)\n",
        "      # Update index mappings\n",
        "      b1 = n_bonds\n",
        "      b2 = b1 + 1\n",
        "      a2b[a2].append(b1)  # b1 = a1 --> a2\n",
        "      b2a.append(a1)\n",
        "      a2b[a1].append(b2)  # b2 = a2 --> a1\n",
        "      b2a.append(a2)\n",
        "      b2revb.append(b2)\n",
        "      b2revb.append(b1)\n",
        "      w_bonds.extend([w_bond12, w_bond21])  # add edge weights\n",
        "      n_bonds += 2\n",
        "\n",
        "      # remove the bond\n",
        "      cm.RemoveBond(a1, _a2)\n",
        "      Chem.SanitizeMol(cm, Chem.SanitizeFlags.SANITIZE_ALL)\n",
        "\n",
        "    if bond_features_extra is not None and len(bond_features_extra) != n_bonds / 2:\n",
        "      raise ValueError(f'The number of bonds in {Chem.MolToSmiles(rwmol)} is different from the length of '\n",
        "                                  f'the extra bond features')\n",
        "    return f_atoms, f_bonds, w_atoms, w_bonds, a2b, b2a, b2revb, degree_of_polym\n",
        "\n",
        "  def featurize(self, smiles: list, include_edge_features = True, generate_global_features_bool = True) -> np.ndarray:\n",
        "    graph_data_list = []\n",
        "    smiles = [smarts_to_smiles(s) for s in smiles]\n",
        "    for smile in smiles:\n",
        "      values = self._featurize(smile)\n",
        "      node_features = np.array(values[0])\n",
        "      edge_features = np.array(values[1])\n",
        "      node_edge_mapping = values[4]\n",
        "      converted_mapping = np.array(convert_node_edge_mapping(node_edge_mapping))\n",
        "      if not generate_global_features_bool:\n",
        "        G = GraphData(node_features, converted_mapping) if not include_edge_features else GraphData(node_features, converted_mapping, edge_features)\n",
        "      else:\n",
        "        mol = Chem.MolFromSmiles(get_valid_smiles(smile))\n",
        "        # print(\"smiles\", smiles)\n",
        "        # print(\"mol\", mol)\n",
        "        global_features = np.empty(0)\n",
        "        G = GraphData(node_features, converted_mapping, global_features=global_features) if not include_edge_features else GraphData(node_features, converted_mapping, edge_features, global_features=global_features)\n",
        "      graph_data_list.append(G)\n",
        "    return np.array(graph_data_list, dtype=object)"
      ]
    },
    {
      "cell_type": "code",
      "execution_count": null,
      "metadata": {
        "id": "OsFW41mAUEGg"
      },
      "outputs": [],
      "source": [
        "featurizer = CustomWeightedDirectedGraphFeaturizer()\n",
        "feature_vector = featurizer.featurize([\"[*:1]c1cc(F)c([*:2])cc1F.[*:3]c1c(O)cc(O)c([*:4])c1O|0.5|0.5|<1-3:0.5:0.5<1-4:0.5:0.5<2-3:0.5:0.5<2-4:0.5:0.5\"])"
      ]
    },
    {
      "cell_type": "code",
      "execution_count": null,
      "metadata": {
        "colab": {
          "base_uri": "https://localhost:8080/"
        },
        "id": "886np32vVnHb",
        "outputId": "5041fc66-b174-4a71-b698-76a1e93b0d6a"
      },
      "outputs": [
        {
          "output_type": "stream",
          "name": "stdout",
          "text": [
            "[GraphData(node_features=[17, 133], edge_index=[2, 42], edge_features=[42, 147], global_features=[0])]\n"
          ]
        }
      ],
      "source": [
        "print(feature_vector)"
      ]
    },
    {
      "cell_type": "markdown",
      "metadata": {
        "id": "eB-tw4KAO3xW"
      },
      "source": [
        "## Discriminator Pipeline Setup"
      ]
    },
    {
      "cell_type": "code",
      "execution_count": null,
      "metadata": {
        "id": "423qv-YYWAo8"
      },
      "outputs": [],
      "source": [
        "featurizer_mapper = {\n",
        "    \"GCN\": MolGraphConvFeaturizer,\n",
        "    \"MAT\": MATFeaturizer,\n",
        "    \"DMPNN\": DMPNNFeaturizer,\n",
        "    \"DMPNN_WDGRAPH\": CustomWeightedDirectedGraphFeaturizer\n",
        "}\n",
        "\n",
        "model_mapper = {\n",
        "    \"GCN\": GCNModel,\n",
        "    \"MAT\": MATModel,\n",
        "    \"DMPNN\": DMPNNModel\n",
        "}"
      ]
    },
    {
      "cell_type": "code",
      "execution_count": null,
      "metadata": {
        "id": "E5as-NIiWEEL"
      },
      "outputs": [],
      "source": [
        "def crossEntropyLoss(output, labels):\n",
        "    ce_loss = torch.nn.CrossEntropyLoss(reduction='none')\n",
        "    # Convert (batch_size, tasks, classes) to (batch_size, classes, tasks)\n",
        "    # CrossEntropyLoss only supports (batch_size, classes, tasks)\n",
        "    if len(output.shape) == 3:\n",
        "        output = output.permute(0, 2, 1)\n",
        "\n",
        "    if len(labels.shape) == len(output.shape):\n",
        "        labels = labels.squeeze(-1)\n",
        "    return ce_loss(torch.tensor(output), torch.tensor(labels))"
      ]
    },
    {
      "cell_type": "code",
      "execution_count": null,
      "metadata": {
        "id": "7W2SMR5TWGSi"
      },
      "outputs": [],
      "source": [
        "def validate_PSMILES_for_encoding(psmiles: str):\n",
        "    mol = Chem.MolFromSmiles(psmiles)\n",
        "    if mol is None:\n",
        "        return False\n",
        "    try:\n",
        "        mol = Chem.AddHs(mol)\n",
        "        AllChem.EmbedMolecule(mol, maxAttempts=5000)\n",
        "        AllChem.UFFOptimizeMolecule(mol)\n",
        "        mol = Chem.RemoveHs(mol)\n",
        "        return True\n",
        "    except ValueError:\n",
        "        try:\n",
        "            AllChem.Compute2DCoords(mol)\n",
        "            return True\n",
        "        except:\n",
        "            return False\n",
        "    except:\n",
        "        return False\n",
        "\n",
        "def validate_modify_PSMILES_for_MAT(psmiles_df):\n",
        "    psmiles_df['validate'] = psmiles_df['smiles'].apply(validate_PSMILES_for_encoding)\n",
        "    return psmiles_df[psmiles_df['validate'] == True]"
      ]
    },
    {
      "cell_type": "code",
      "execution_count": null,
      "metadata": {
        "id": "GeAoEQlb_Jjv"
      },
      "outputs": [],
      "source": [
        "class PolymerDiscriminatorPipeline():\n",
        "  def __init__(self, task: str, model_name: str, input_type: str, batch_size: int = 3, save: bool = True, filepath: str= \"/content/artifacts\"):\n",
        "    ALLOWED_MODELS = [\"GCN\", \"MAT\", \"DMPNN\"]\n",
        "    ALLOWED_INPUT_TYPE = [\"PSMILES\", \"WDGRAPH\"]\n",
        "\n",
        "    if task not in [\"regression\", \"classification\"]:\n",
        "      raise ValueError(\"Task must be either 'regression' or 'classification'\")\n",
        "\n",
        "    if model_name not in ALLOWED_MODELS:\n",
        "      raise ValueError(f\"Model must be one of {ALLOWED_MODELS}\")\n",
        "\n",
        "    if input_type not in ALLOWED_INPUT_TYPE:\n",
        "      raise ValueError(f\"Input type must be one of {ALLOWED_INPUT_TYPE}\")\n",
        "\n",
        "    if input_type  == \"WDGRAPH\" and model_name == \"MAT\":\n",
        "      raise ValueError(\"MAT model does not support WDGRAPH input\")\n",
        "\n",
        "    self.id = str(uuid.uuid4())\n",
        "    self.base_dir = os.path.join(filepath, str(self.id))\n",
        "    self.task = task\n",
        "    self.model_name = model_name\n",
        "    self.input_type = input_type\n",
        "    self.batch_size = batch_size\n",
        "    self.save = save\n",
        "    self.model = None\n",
        "    self.featurizer = None\n",
        "    self.report = None\n",
        "    self.num_classes = None\n",
        "\n",
        "  def _init_filesystem(self):\n",
        "    # Create the base directory if it does not exist\n",
        "    if not os.path.exists(self.base_dir):\n",
        "        os.makedirs(self.base_dir)\n",
        "\n",
        "    # Define the subdirectories to create\n",
        "    subdirectories = ['dataset', 'models']\n",
        "\n",
        "    # Create each subdirectory within the base directory\n",
        "    for subdir in subdirectories:\n",
        "        subdir_path = os.path.join(self.base_dir, subdir)\n",
        "        if not os.path.exists(subdir_path):\n",
        "            os.makedirs(subdir_path)\n",
        "\n",
        "  def _write_artifacts(self):\n",
        "    model_path = os.path.join(self.base_dir, 'models')\n",
        "    report_path = os.path.join(self.base_dir, 'report.json')\n",
        "    params_path = os.path.join(self.base_dir, 'params.json')\n",
        "    self.model.save_checkpoint(model_dir = model_path)\n",
        "    with open(report_path, 'w') as f:\n",
        "      json.dump(self.report, f)\n",
        "    params = {\n",
        "        \"task\" : self.task,\n",
        "        \"model_name\" : self.model_name,\n",
        "        \"batch_size\" : self.batch_size,\n",
        "        \"id\" : str(self.id),\n",
        "        \"input_type\" : self.input_type\n",
        "    }\n",
        "    if self.task == \"classification\":\n",
        "      params[\"num_classes\"] = str(self.num_classes)\n",
        "    with open(params_path, 'w') as f:\n",
        "      json.dump(params, f)\n",
        "\n",
        "  def _prepare_data(self, df, train_ratio: float = 0.8):\n",
        "    if self.model_name == \"MAT\":\n",
        "      df = validate_modify_PSMILES_for_MAT(df)\n",
        "    train_df, test_df = train_test_split(df, test_size=1-train_ratio, random_state=42)\n",
        "    train_path, test_path = os.path.join(self.base_dir, \"train.csv\"), os.path.join(self.base_dir, \"test.csv\")\n",
        "    train_df.to_csv(train_path)\n",
        "    test_df.to_csv(test_path)\n",
        "    return train_path, test_path\n",
        "\n",
        "  def _featurize(self, train_path, test_path):\n",
        "    train_df = pd.read_csv(train_path)\n",
        "    test_df = pd.read_csv(test_path)\n",
        "\n",
        "    if self.model_name == \"DMPNN\" and self.input_type == \"WDGRAPH\":\n",
        "      featurizer = featurizer_mapper[\"DMPNN_WDGRAPH\"]()\n",
        "    else:\n",
        "      featurizer = featurizer_mapper[self.model_name]()\n",
        "\n",
        "    self.featurizer = featurizer\n",
        "\n",
        "    X_train = featurizer.featurize(train_df[\"smiles\"].values)\n",
        "    y_train = train_df[\"value\"].values\n",
        "\n",
        "    X_test = featurizer.featurize(test_df[\"smiles\"].values)\n",
        "    y_test = test_df[\"value\"].values\n",
        "\n",
        "    return X_train, y_train, X_test, y_test\n",
        "\n",
        "  def _prepare_input(self, X_train, y_train, X_test, y_test):\n",
        "    train_dataset = NumpyDataset(X_train, y_train)\n",
        "    test_dataset = NumpyDataset(X_test, y_test)\n",
        "    return train_dataset, test_dataset\n",
        "\n",
        "  def _train(self, train_dataset, num_epochs):\n",
        "    if self.task == \"regression\" and self.input_type == \"PSMILES\":\n",
        "      model = model_mapper[self.model_name](mode=self.task, batch_size=self.batch_size, n_tasks = 1)\n",
        "    elif self.task == \"regresssion\" and self.input_type == \"WDGRAPH\":\n",
        "      if self.model_name == \"GCN\":\n",
        "        model = model_mapper[self.model_name](mode=self.task, batch_size=self.batch_size, n_tasks = 1, n_classes = 1, number_atom_features=133)\n",
        "      if self.model_name == \"DMPNN\":\n",
        "        if self.featurizer is not None:\n",
        "          model = model_mapper[self.model_name](model=self.task,\n",
        "                                                batch_size=self.batch_size,\n",
        "                                                n_tasks= 1,\n",
        "                                                use_default_fdim = False,\n",
        "                                                atom_fdim = self.featurizer.atom_fdim,\n",
        "                                                bond_fdim = self.featurizer.bond_fdim)\n",
        "    else:\n",
        "      max_target_encode = train_dataset.y.max()\n",
        "      self.num_classes = max_target_encode + 1\n",
        "      model = model_mapper[self.model_name](mode=self.task, batch_size=self.batch_size, n_tasks = 1, n_classes = self.num_classes)\n",
        "    train_loss = model.fit(train_dataset, nb_epoch=num_epochs)\n",
        "    return model, train_loss\n",
        "\n",
        "  def _evaluate(self, model, test_dataset):\n",
        "    if self.task == \"regression\":\n",
        "      metric = Metric(mean_squared_error)\n",
        "      test_loss = model.evaluate(test_dataset, [metric])\n",
        "    else:\n",
        "      pred = model.predict(test_dataset)\n",
        "      test_loss = crossEntropyLoss(pred, test_dataset.y)\n",
        "      test_loss = test_loss.mean().item()\n",
        "    return test_loss\n",
        "\n",
        "  def __call__(self, df: pd.DataFrame, num_epochs: int, train_ratio: float = 0.8):\n",
        "    if self.model is not None:\n",
        "      return self.report\n",
        "    self._init_filesystem()\n",
        "    train_path, test_path = self._prepare_data(df, train_ratio)\n",
        "    if self.model_name == \"MAT\":\n",
        "      data_loader = CSVLoader(tasks=['value'], feature_field='smiles', featurizer=featurizer_mapper[self.model_name]())\n",
        "      train_dataset = data_loader.create_dataset(train_path)\n",
        "      test_dataset = data_loader.create_dataset(test_path)\n",
        "    else:\n",
        "      X_train, y_train, X_test, y_test = self._featurize(train_path, test_path)\n",
        "      train_dataset, test_dataset = self._prepare_input(X_train, y_train, X_test, y_test)\n",
        "    model, train_loss = self._train(train_dataset, num_epochs)\n",
        "    test_loss = self._evaluate(model, test_dataset)\n",
        "    report = {\n",
        "        \"model\" : self.model_name,\n",
        "        \"task\" : self.task,\n",
        "        \"train_loss\" : train_loss,\n",
        "        \"test_loss\" : test_loss\n",
        "    }\n",
        "    self.model = model\n",
        "    self.report = report\n",
        "    if self.save:\n",
        "      self._write_artifacts()\n",
        "    return report\n",
        "\n",
        "  def predict(self, datapoints):\n",
        "    if self.model is None:\n",
        "      raise ValueError(\"Model has not been trained yet\")\n",
        "    pred_featurizer = featurizer_mapper[self.model_name]()\n",
        "    pred_dataset = pred_featurizer.featurize(datapoints)\n",
        "    pred_dataset = NumpyDataset(pred_dataset)\n",
        "    pred = self.model.predict(pred_dataset)\n",
        "    return pred\n",
        "\n",
        "  @classmethod\n",
        "  def load_pipeline(cls, pipeline_id: str, filepath: str = \"/content/artifacts\"):\n",
        "    base_dir = os.path.join(filepath, pipeline_id)\n",
        "    model_path = os.path.join(base_dir, 'models')\n",
        "    report_path = os.path.join(base_dir, 'report.json')\n",
        "    params_path = os.path.join(base_dir, 'params.json')\n",
        "    with open(params_path, 'r') as f:\n",
        "      params = json.load(f)\n",
        "    with open(report_path, 'r') as f:\n",
        "      report = json.load(f)\n",
        "    if params[\"task\"] == \"regression\":\n",
        "      model= model_mapper[params[\"model_name\"]](mode=params[\"task\"], batch_size=params[\"batch_size\"], n_tasks=1)\n",
        "    else:\n",
        "      max_target_encode = params[\"num_classes\"]\n",
        "      model= model_mapper[params[\"model_name\"]](mode=params[\"task\"], batch_size=params[\"batch_size\"], n_tasks=1, n_classes=int(max_target_encode))\n",
        "    checkpoints = model.get_checkpoints(model_dir = model_path)\n",
        "    if len(checkpoints) == 0:\n",
        "      raise ValueError(\"No checkpoints found\")\n",
        "    else:\n",
        "      checkpoint = checkpoints[-1]\n",
        "    checkpoint_path = os.path.join(model_path, checkpoint)\n",
        "    model.restore(checkpoint = checkpoint_path)\n",
        "    pipeline = cls(task=params[\"task\"], input_type=params[\"input_type\"], model_name=params[\"model_name\"], batch_size=params[\"batch_size\"], save=False)\n",
        "    pipeline.model = model\n",
        "    pipeline.report = report\n",
        "    return pipeline"
      ]
    },
    {
      "cell_type": "markdown",
      "metadata": {
        "id": "c2VipQR8_Jjx"
      },
      "source": [
        "### Regression Application (PSMILES)"
      ]
    },
    {
      "cell_type": "code",
      "execution_count": null,
      "metadata": {
        "colab": {
          "base_uri": "https://localhost:8080/"
        },
        "collapsed": true,
        "id": "Pkb9b4QSvhFB",
        "outputId": "1bfb7764-edf3-4df7-c5ae-8355c91f68a0"
      },
      "outputs": [
        {
          "output_type": "stream",
          "name": "stdout",
          "text": [
            "--2024-10-07 10:44:20--  https://media.githubusercontent.com/media/ChangwenXu98/TransPolymer/master/data/Xc.csv\n",
            "Resolving media.githubusercontent.com (media.githubusercontent.com)... 185.199.108.133, 185.199.109.133, 185.199.110.133, ...\n",
            "Connecting to media.githubusercontent.com (media.githubusercontent.com)|185.199.108.133|:443... connected.\n",
            "HTTP request sent, awaiting response... 200 OK\n",
            "Length: 19747 (19K) [text/plain]\n",
            "Saving to: ‘Xc.csv’\n",
            "\n",
            "Xc.csv              100%[===================>]  19.28K  --.-KB/s    in 0s      \n",
            "\n",
            "2024-10-07 10:44:20 (90.1 MB/s) - ‘Xc.csv’ saved [19747/19747]\n",
            "\n"
          ]
        }
      ],
      "source": [
        "! wget \"https://media.githubusercontent.com/media/ChangwenXu98/TransPolymer/master/data/Xc.csv\""
      ]
    },
    {
      "cell_type": "code",
      "execution_count": null,
      "metadata": {
        "colab": {
          "base_uri": "https://localhost:8080/",
          "height": 223
        },
        "id": "jL5xfEAwvksp",
        "outputId": "280fafbc-40ef-4857-a6de-fbe99a3d768d"
      },
      "outputs": [
        {
          "output_type": "stream",
          "name": "stdout",
          "text": [
            "Number of data points 432\n"
          ]
        },
        {
          "output_type": "execute_result",
          "data": {
            "text/plain": [
              "         smiles  value\n",
              "0           *C*  47.80\n",
              "1       *CC(*)C  44.47\n",
              "2      *CC(*)CC  34.04\n",
              "3     *CC(*)CCC  20.01\n",
              "4  *CC(*)CC(C)C  21.64"
            ],
            "text/html": [
              "\n",
              "  <div id=\"df-7d7c9e18-1c67-4f7e-8aaf-52b514030f63\" class=\"colab-df-container\">\n",
              "    <div>\n",
              "<style scoped>\n",
              "    .dataframe tbody tr th:only-of-type {\n",
              "        vertical-align: middle;\n",
              "    }\n",
              "\n",
              "    .dataframe tbody tr th {\n",
              "        vertical-align: top;\n",
              "    }\n",
              "\n",
              "    .dataframe thead th {\n",
              "        text-align: right;\n",
              "    }\n",
              "</style>\n",
              "<table border=\"1\" class=\"dataframe\">\n",
              "  <thead>\n",
              "    <tr style=\"text-align: right;\">\n",
              "      <th></th>\n",
              "      <th>smiles</th>\n",
              "      <th>value</th>\n",
              "    </tr>\n",
              "  </thead>\n",
              "  <tbody>\n",
              "    <tr>\n",
              "      <th>0</th>\n",
              "      <td>*C*</td>\n",
              "      <td>47.80</td>\n",
              "    </tr>\n",
              "    <tr>\n",
              "      <th>1</th>\n",
              "      <td>*CC(*)C</td>\n",
              "      <td>44.47</td>\n",
              "    </tr>\n",
              "    <tr>\n",
              "      <th>2</th>\n",
              "      <td>*CC(*)CC</td>\n",
              "      <td>34.04</td>\n",
              "    </tr>\n",
              "    <tr>\n",
              "      <th>3</th>\n",
              "      <td>*CC(*)CCC</td>\n",
              "      <td>20.01</td>\n",
              "    </tr>\n",
              "    <tr>\n",
              "      <th>4</th>\n",
              "      <td>*CC(*)CC(C)C</td>\n",
              "      <td>21.64</td>\n",
              "    </tr>\n",
              "  </tbody>\n",
              "</table>\n",
              "</div>\n",
              "    <div class=\"colab-df-buttons\">\n",
              "\n",
              "  <div class=\"colab-df-container\">\n",
              "    <button class=\"colab-df-convert\" onclick=\"convertToInteractive('df-7d7c9e18-1c67-4f7e-8aaf-52b514030f63')\"\n",
              "            title=\"Convert this dataframe to an interactive table.\"\n",
              "            style=\"display:none;\">\n",
              "\n",
              "  <svg xmlns=\"http://www.w3.org/2000/svg\" height=\"24px\" viewBox=\"0 -960 960 960\">\n",
              "    <path d=\"M120-120v-720h720v720H120Zm60-500h600v-160H180v160Zm220 220h160v-160H400v160Zm0 220h160v-160H400v160ZM180-400h160v-160H180v160Zm440 0h160v-160H620v160ZM180-180h160v-160H180v160Zm440 0h160v-160H620v160Z\"/>\n",
              "  </svg>\n",
              "    </button>\n",
              "\n",
              "  <style>\n",
              "    .colab-df-container {\n",
              "      display:flex;\n",
              "      gap: 12px;\n",
              "    }\n",
              "\n",
              "    .colab-df-convert {\n",
              "      background-color: #E8F0FE;\n",
              "      border: none;\n",
              "      border-radius: 50%;\n",
              "      cursor: pointer;\n",
              "      display: none;\n",
              "      fill: #1967D2;\n",
              "      height: 32px;\n",
              "      padding: 0 0 0 0;\n",
              "      width: 32px;\n",
              "    }\n",
              "\n",
              "    .colab-df-convert:hover {\n",
              "      background-color: #E2EBFA;\n",
              "      box-shadow: 0px 1px 2px rgba(60, 64, 67, 0.3), 0px 1px 3px 1px rgba(60, 64, 67, 0.15);\n",
              "      fill: #174EA6;\n",
              "    }\n",
              "\n",
              "    .colab-df-buttons div {\n",
              "      margin-bottom: 4px;\n",
              "    }\n",
              "\n",
              "    [theme=dark] .colab-df-convert {\n",
              "      background-color: #3B4455;\n",
              "      fill: #D2E3FC;\n",
              "    }\n",
              "\n",
              "    [theme=dark] .colab-df-convert:hover {\n",
              "      background-color: #434B5C;\n",
              "      box-shadow: 0px 1px 3px 1px rgba(0, 0, 0, 0.15);\n",
              "      filter: drop-shadow(0px 1px 2px rgba(0, 0, 0, 0.3));\n",
              "      fill: #FFFFFF;\n",
              "    }\n",
              "  </style>\n",
              "\n",
              "    <script>\n",
              "      const buttonEl =\n",
              "        document.querySelector('#df-7d7c9e18-1c67-4f7e-8aaf-52b514030f63 button.colab-df-convert');\n",
              "      buttonEl.style.display =\n",
              "        google.colab.kernel.accessAllowed ? 'block' : 'none';\n",
              "\n",
              "      async function convertToInteractive(key) {\n",
              "        const element = document.querySelector('#df-7d7c9e18-1c67-4f7e-8aaf-52b514030f63');\n",
              "        const dataTable =\n",
              "          await google.colab.kernel.invokeFunction('convertToInteractive',\n",
              "                                                    [key], {});\n",
              "        if (!dataTable) return;\n",
              "\n",
              "        const docLinkHtml = 'Like what you see? Visit the ' +\n",
              "          '<a target=\"_blank\" href=https://colab.research.google.com/notebooks/data_table.ipynb>data table notebook</a>'\n",
              "          + ' to learn more about interactive tables.';\n",
              "        element.innerHTML = '';\n",
              "        dataTable['output_type'] = 'display_data';\n",
              "        await google.colab.output.renderOutput(dataTable, element);\n",
              "        const docLink = document.createElement('div');\n",
              "        docLink.innerHTML = docLinkHtml;\n",
              "        element.appendChild(docLink);\n",
              "      }\n",
              "    </script>\n",
              "  </div>\n",
              "\n",
              "\n",
              "<div id=\"df-67aef6f6-3ad2-457d-83ce-501cd605b8ff\">\n",
              "  <button class=\"colab-df-quickchart\" onclick=\"quickchart('df-67aef6f6-3ad2-457d-83ce-501cd605b8ff')\"\n",
              "            title=\"Suggest charts\"\n",
              "            style=\"display:none;\">\n",
              "\n",
              "<svg xmlns=\"http://www.w3.org/2000/svg\" height=\"24px\"viewBox=\"0 0 24 24\"\n",
              "     width=\"24px\">\n",
              "    <g>\n",
              "        <path d=\"M19 3H5c-1.1 0-2 .9-2 2v14c0 1.1.9 2 2 2h14c1.1 0 2-.9 2-2V5c0-1.1-.9-2-2-2zM9 17H7v-7h2v7zm4 0h-2V7h2v10zm4 0h-2v-4h2v4z\"/>\n",
              "    </g>\n",
              "</svg>\n",
              "  </button>\n",
              "\n",
              "<style>\n",
              "  .colab-df-quickchart {\n",
              "      --bg-color: #E8F0FE;\n",
              "      --fill-color: #1967D2;\n",
              "      --hover-bg-color: #E2EBFA;\n",
              "      --hover-fill-color: #174EA6;\n",
              "      --disabled-fill-color: #AAA;\n",
              "      --disabled-bg-color: #DDD;\n",
              "  }\n",
              "\n",
              "  [theme=dark] .colab-df-quickchart {\n",
              "      --bg-color: #3B4455;\n",
              "      --fill-color: #D2E3FC;\n",
              "      --hover-bg-color: #434B5C;\n",
              "      --hover-fill-color: #FFFFFF;\n",
              "      --disabled-bg-color: #3B4455;\n",
              "      --disabled-fill-color: #666;\n",
              "  }\n",
              "\n",
              "  .colab-df-quickchart {\n",
              "    background-color: var(--bg-color);\n",
              "    border: none;\n",
              "    border-radius: 50%;\n",
              "    cursor: pointer;\n",
              "    display: none;\n",
              "    fill: var(--fill-color);\n",
              "    height: 32px;\n",
              "    padding: 0;\n",
              "    width: 32px;\n",
              "  }\n",
              "\n",
              "  .colab-df-quickchart:hover {\n",
              "    background-color: var(--hover-bg-color);\n",
              "    box-shadow: 0 1px 2px rgba(60, 64, 67, 0.3), 0 1px 3px 1px rgba(60, 64, 67, 0.15);\n",
              "    fill: var(--button-hover-fill-color);\n",
              "  }\n",
              "\n",
              "  .colab-df-quickchart-complete:disabled,\n",
              "  .colab-df-quickchart-complete:disabled:hover {\n",
              "    background-color: var(--disabled-bg-color);\n",
              "    fill: var(--disabled-fill-color);\n",
              "    box-shadow: none;\n",
              "  }\n",
              "\n",
              "  .colab-df-spinner {\n",
              "    border: 2px solid var(--fill-color);\n",
              "    border-color: transparent;\n",
              "    border-bottom-color: var(--fill-color);\n",
              "    animation:\n",
              "      spin 1s steps(1) infinite;\n",
              "  }\n",
              "\n",
              "  @keyframes spin {\n",
              "    0% {\n",
              "      border-color: transparent;\n",
              "      border-bottom-color: var(--fill-color);\n",
              "      border-left-color: var(--fill-color);\n",
              "    }\n",
              "    20% {\n",
              "      border-color: transparent;\n",
              "      border-left-color: var(--fill-color);\n",
              "      border-top-color: var(--fill-color);\n",
              "    }\n",
              "    30% {\n",
              "      border-color: transparent;\n",
              "      border-left-color: var(--fill-color);\n",
              "      border-top-color: var(--fill-color);\n",
              "      border-right-color: var(--fill-color);\n",
              "    }\n",
              "    40% {\n",
              "      border-color: transparent;\n",
              "      border-right-color: var(--fill-color);\n",
              "      border-top-color: var(--fill-color);\n",
              "    }\n",
              "    60% {\n",
              "      border-color: transparent;\n",
              "      border-right-color: var(--fill-color);\n",
              "    }\n",
              "    80% {\n",
              "      border-color: transparent;\n",
              "      border-right-color: var(--fill-color);\n",
              "      border-bottom-color: var(--fill-color);\n",
              "    }\n",
              "    90% {\n",
              "      border-color: transparent;\n",
              "      border-bottom-color: var(--fill-color);\n",
              "    }\n",
              "  }\n",
              "</style>\n",
              "\n",
              "  <script>\n",
              "    async function quickchart(key) {\n",
              "      const quickchartButtonEl =\n",
              "        document.querySelector('#' + key + ' button');\n",
              "      quickchartButtonEl.disabled = true;  // To prevent multiple clicks.\n",
              "      quickchartButtonEl.classList.add('colab-df-spinner');\n",
              "      try {\n",
              "        const charts = await google.colab.kernel.invokeFunction(\n",
              "            'suggestCharts', [key], {});\n",
              "      } catch (error) {\n",
              "        console.error('Error during call to suggestCharts:', error);\n",
              "      }\n",
              "      quickchartButtonEl.classList.remove('colab-df-spinner');\n",
              "      quickchartButtonEl.classList.add('colab-df-quickchart-complete');\n",
              "    }\n",
              "    (() => {\n",
              "      let quickchartButtonEl =\n",
              "        document.querySelector('#df-67aef6f6-3ad2-457d-83ce-501cd605b8ff button');\n",
              "      quickchartButtonEl.style.display =\n",
              "        google.colab.kernel.accessAllowed ? 'block' : 'none';\n",
              "    })();\n",
              "  </script>\n",
              "</div>\n",
              "\n",
              "    </div>\n",
              "  </div>\n"
            ],
            "application/vnd.google.colaboratory.intrinsic+json": {
              "type": "dataframe",
              "variable_name": "reg_df",
              "summary": "{\n  \"name\": \"reg_df\",\n  \"rows\": 432,\n  \"fields\": [\n    {\n      \"column\": \"smiles\",\n      \"properties\": {\n        \"dtype\": \"string\",\n        \"num_unique_values\": 432,\n        \"samples\": [\n          \"*C=Cc1cc(OCCCC)c(C=Cc2ccc(*)cc2)cc1OCCCC\",\n          \"*Oc1ccc(Oc2ccc(C(=O)c3cccc(C(=O)c4ccc(*)cc4)c3)cc2)cc1\",\n          \"*CCCCCCNC(=O)c1cccc(C(=O)N*)c1\"\n        ],\n        \"semantic_type\": \"\",\n        \"description\": \"\"\n      }\n    },\n    {\n      \"column\": \"value\",\n      \"properties\": {\n        \"dtype\": \"number\",\n        \"std\": 23.73338329145353,\n        \"min\": 0.13,\n        \"max\": 98.81,\n        \"num_unique_values\": 421,\n        \"samples\": [\n          29.18,\n          9.05,\n          46.0\n        ],\n        \"semantic_type\": \"\",\n        \"description\": \"\"\n      }\n    }\n  ]\n}"
            }
          },
          "metadata": {},
          "execution_count": 23
        }
      ],
      "source": [
        "reg_df = pd.read_csv(\"/content/Xc.csv\")\n",
        "print(\"Number of data points\", reg_df.shape[0])\n",
        "reg_df.head()"
      ]
    },
    {
      "cell_type": "code",
      "execution_count": null,
      "metadata": {
        "colab": {
          "base_uri": "https://localhost:8080/"
        },
        "id": "WIpXO0oD_Jjz",
        "outputId": "29c74b5d-d264-4b1b-d028-3299f3361a7f"
      },
      "outputs": [
        {
          "output_type": "stream",
          "name": "stdout",
          "text": [
            "GCN regression report >> {'model': 'GCN', 'task': 'regression', 'train_loss': 414.6894921875, 'test_loss': {'mean_squared_error': 502.17264126766247}}\n"
          ]
        }
      ],
      "source": [
        "gcn_reg_pipeline = PolymerDiscriminatorPipeline(task=\"regression\", model_name=\"GCN\", input_type=\"PSMILES\")\n",
        "gcn_reg_report = gcn_reg_pipeline(reg_df, num_epochs = 30)\n",
        "print(\"GCN regression report >>\", gcn_reg_report)"
      ]
    },
    {
      "cell_type": "code",
      "execution_count": null,
      "metadata": {
        "colab": {
          "base_uri": "https://localhost:8080/",
          "height": 36
        },
        "id": "9J5kEe8KUo7T",
        "outputId": "9de5b9c2-e3eb-49c2-e3d9-cb9582b5ebe5"
      },
      "outputs": [
        {
          "output_type": "execute_result",
          "data": {
            "text/plain": [
              "'483f8eee-83b9-40a0-8462-a0d18b0ede65'"
            ],
            "application/vnd.google.colaboratory.intrinsic+json": {
              "type": "string"
            }
          },
          "metadata": {},
          "execution_count": 25
        }
      ],
      "source": [
        "gcn_reg_pipeline.id"
      ]
    },
    {
      "cell_type": "code",
      "execution_count": null,
      "metadata": {
        "id": "hZ3OagduUy62"
      },
      "outputs": [],
      "source": [
        "restored_pipeline = PolymerDiscriminatorPipeline.load_pipeline(gcn_reg_pipeline.id)"
      ]
    },
    {
      "cell_type": "code",
      "execution_count": null,
      "metadata": {
        "colab": {
          "base_uri": "https://localhost:8080/"
        },
        "id": "92KIsczTX6pU",
        "outputId": "dcff208b-57b4-421d-cf74-311b8fb0a697"
      },
      "outputs": [
        {
          "output_type": "stream",
          "name": "stdout",
          "text": [
            "[[34.301296]]\n"
          ]
        }
      ],
      "source": [
        "dataset = [\"*CC(*)CCC\"]\n",
        "prediction = restored_pipeline.predict(dataset)\n",
        "print(prediction)"
      ]
    },
    {
      "cell_type": "code",
      "execution_count": null,
      "metadata": {
        "colab": {
          "base_uri": "https://localhost:8080/"
        },
        "collapsed": true,
        "id": "t6zRpu9t_Jj0",
        "outputId": "7bd94126-c86b-44c4-8b00-2609450fbb8d"
      },
      "outputs": [
        {
          "output_type": "stream",
          "name": "stderr",
          "text": [
            "/usr/local/lib/python3.10/dist-packages/deepchem/models/torch_models/mat.py:166: UserWarning: To copy construct from a tensor, it is recommended to use sourceTensor.clone().detach() or sourceTensor.clone().detach().requires_grad_(True), rather than torch.tensor(sourceTensor).\n",
            "  node_features = torch.tensor(data[0]).float()\n",
            "/usr/local/lib/python3.10/dist-packages/deepchem/models/torch_models/mat.py:167: UserWarning: To copy construct from a tensor, it is recommended to use sourceTensor.clone().detach() or sourceTensor.clone().detach().requires_grad_(True), rather than torch.tensor(sourceTensor).\n",
            "  adjacency_matrix = torch.tensor(data[1]).float()\n",
            "/usr/local/lib/python3.10/dist-packages/deepchem/models/torch_models/mat.py:168: UserWarning: To copy construct from a tensor, it is recommended to use sourceTensor.clone().detach() or sourceTensor.clone().detach().requires_grad_(True), rather than torch.tensor(sourceTensor).\n",
            "  distance_matrix = torch.tensor(data[2]).float()\n",
            "/usr/local/lib/python3.10/dist-packages/deepchem/models/torch_models/layers.py:551: UserWarning: To copy construct from a tensor, it is recommended to use sourceTensor.clone().detach() or sourceTensor.clone().detach().requires_grad_(True), rather than torch.tensor(sourceTensor).\n",
            "  torch.sum(torch.tensor(adj_matrix), dim=-1).unsqueeze(2) + eps)\n",
            "/usr/local/lib/python3.10/dist-packages/deepchem/models/torch_models/layers.py:558: UserWarning: To copy construct from a tensor, it is recommended to use sourceTensor.clone().detach() or sourceTensor.clone().detach().requires_grad_(True), rather than torch.tensor(sourceTensor).\n",
            "  distance_matrix = torch.tensor(distance_matrix).squeeze().masked_fill(\n"
          ]
        }
      ],
      "source": [
        "mat_reg_pipeline = PolymerDiscriminatorPipeline(task=\"regression\", model_name=\"MAT\", input_type = \"PSMILES\")\n",
        "mat_reg_report = mat_reg_pipeline(reg_df, num_epochs = 1)"
      ]
    },
    {
      "cell_type": "code",
      "execution_count": null,
      "metadata": {
        "colab": {
          "base_uri": "https://localhost:8080/"
        },
        "id": "x4cERJWe_Jj1",
        "outputId": "39da03df-2e04-4ca8-8abc-ea931cbc14d2"
      },
      "outputs": [
        {
          "output_type": "stream",
          "name": "stdout",
          "text": [
            "MAT regression report >> {'model': 'MAT', 'task': 'regression', 'train_loss': 301.09622628348217, 'test_loss': {'mean_squared_error': 641.5117670057623}}\n"
          ]
        }
      ],
      "source": [
        "print(\"MAT regression report >>\", mat_reg_report)"
      ]
    },
    {
      "cell_type": "code",
      "execution_count": null,
      "metadata": {
        "id": "TuTY1Pu74HJo"
      },
      "outputs": [],
      "source": [
        "restored_pipeline = PolymerDiscriminatorPipeline.load_pipeline(mat_reg_pipeline.id)"
      ]
    },
    {
      "cell_type": "code",
      "execution_count": null,
      "metadata": {
        "colab": {
          "base_uri": "https://localhost:8080/"
        },
        "id": "ovnLv4VC4RK1",
        "outputId": "98c0331b-4ebf-4fda-8d9a-44a3fd42eca3"
      },
      "outputs": [
        {
          "output_type": "stream",
          "name": "stdout",
          "text": [
            "[[33.681526]]\n"
          ]
        },
        {
          "output_type": "stream",
          "name": "stderr",
          "text": [
            "/usr/local/lib/python3.10/dist-packages/deepchem/models/torch_models/mat.py:166: UserWarning: To copy construct from a tensor, it is recommended to use sourceTensor.clone().detach() or sourceTensor.clone().detach().requires_grad_(True), rather than torch.tensor(sourceTensor).\n",
            "  node_features = torch.tensor(data[0]).float()\n",
            "/usr/local/lib/python3.10/dist-packages/deepchem/models/torch_models/mat.py:167: UserWarning: To copy construct from a tensor, it is recommended to use sourceTensor.clone().detach() or sourceTensor.clone().detach().requires_grad_(True), rather than torch.tensor(sourceTensor).\n",
            "  adjacency_matrix = torch.tensor(data[1]).float()\n",
            "/usr/local/lib/python3.10/dist-packages/deepchem/models/torch_models/mat.py:168: UserWarning: To copy construct from a tensor, it is recommended to use sourceTensor.clone().detach() or sourceTensor.clone().detach().requires_grad_(True), rather than torch.tensor(sourceTensor).\n",
            "  distance_matrix = torch.tensor(data[2]).float()\n",
            "/usr/local/lib/python3.10/dist-packages/deepchem/models/torch_models/layers.py:551: UserWarning: To copy construct from a tensor, it is recommended to use sourceTensor.clone().detach() or sourceTensor.clone().detach().requires_grad_(True), rather than torch.tensor(sourceTensor).\n",
            "  torch.sum(torch.tensor(adj_matrix), dim=-1).unsqueeze(2) + eps)\n",
            "/usr/local/lib/python3.10/dist-packages/deepchem/models/torch_models/layers.py:558: UserWarning: To copy construct from a tensor, it is recommended to use sourceTensor.clone().detach() or sourceTensor.clone().detach().requires_grad_(True), rather than torch.tensor(sourceTensor).\n",
            "  distance_matrix = torch.tensor(distance_matrix).squeeze().masked_fill(\n"
          ]
        }
      ],
      "source": [
        "dataset = [\"*CC(*)CCC\"]\n",
        "prediction = restored_pipeline.predict(dataset)\n",
        "print(prediction)"
      ]
    },
    {
      "cell_type": "code",
      "execution_count": null,
      "metadata": {
        "colab": {
          "base_uri": "https://localhost:8080/"
        },
        "id": "qYn9sEolvBpY",
        "outputId": "34fa95f6-aaab-4205-cabc-c14f6c0f14ce"
      },
      "outputs": [
        {
          "output_type": "stream",
          "name": "stdout",
          "text": [
            "DMPNN regression report >> {'model': 'DMPNN', 'task': 'regression', 'train_loss': 254.54958984375, 'test_loss': {'mean_squared_error': 345.74142942520024}}\n"
          ]
        }
      ],
      "source": [
        "dmpnn_reg_pipeline = PolymerDiscriminatorPipeline(task=\"regression\", model_name=\"DMPNN\",input_type=\"PSMILES\")\n",
        "dmpnn_reg_report = dmpnn_reg_pipeline(reg_df, num_epochs = 35)\n",
        "print(\"DMPNN regression report >>\", dmpnn_reg_report)"
      ]
    },
    {
      "cell_type": "code",
      "execution_count": null,
      "metadata": {
        "colab": {
          "base_uri": "https://localhost:8080/",
          "height": 36
        },
        "id": "5QQsb53T8313",
        "outputId": "9a0b5f33-85b6-41cd-c297-177f3d13fdb0"
      },
      "outputs": [
        {
          "output_type": "execute_result",
          "data": {
            "text/plain": [
              "'6761f33d-e04a-4e41-8588-6b08e15aa6ad'"
            ],
            "application/vnd.google.colaboratory.intrinsic+json": {
              "type": "string"
            }
          },
          "metadata": {},
          "execution_count": 33
        }
      ],
      "source": [
        "dmpnn_reg_pipeline.id"
      ]
    },
    {
      "cell_type": "code",
      "execution_count": null,
      "metadata": {
        "id": "k3xDI_6e88z1"
      },
      "outputs": [],
      "source": [
        "restored_dmpnn_pipeline = PolymerDiscriminatorPipeline.load_pipeline(gcn_reg_pipeline.id)"
      ]
    },
    {
      "cell_type": "code",
      "execution_count": null,
      "metadata": {
        "colab": {
          "base_uri": "https://localhost:8080/"
        },
        "id": "Ec0MUASG9BFy",
        "outputId": "7de51dfc-dd4c-4427-c2d8-0c581207caa1"
      },
      "outputs": [
        {
          "output_type": "stream",
          "name": "stdout",
          "text": [
            "[[34.301296]]\n"
          ]
        }
      ],
      "source": [
        "dataset = [\"*CC(*)CCC\"]\n",
        "pred_dmpnn = restored_dmpnn_pipeline.predict(dataset)\n",
        "print(pred_dmpnn)"
      ]
    },
    {
      "cell_type": "markdown",
      "metadata": {
        "id": "azphAKwepK8H"
      },
      "source": [
        "### Regression Application (WDGRAPH)"
      ]
    },
    {
      "cell_type": "code",
      "execution_count": null,
      "metadata": {
        "colab": {
          "base_uri": "https://localhost:8080/"
        },
        "id": "zX1VT8_jpOv9",
        "outputId": "65f078a0-468a-473e-b8fe-b01470449d8d"
      },
      "outputs": [
        {
          "output_type": "stream",
          "name": "stdout",
          "text": [
            "--2024-10-07 10:47:57--  https://raw.githubusercontent.com/coleygroup/polymer-chemprop-data/refs/heads/main/datasets/vipea/chemprop_inputs/dataset-poly_chemprop.csv\n",
            "Resolving raw.githubusercontent.com (raw.githubusercontent.com)... 185.199.108.133, 185.199.109.133, 185.199.110.133, ...\n",
            "Connecting to raw.githubusercontent.com (raw.githubusercontent.com)|185.199.108.133|:443... connected.\n",
            "HTTP request sent, awaiting response... 200 OK\n",
            "Length: 10542141 (10M) [text/plain]\n",
            "Saving to: ‘dataset-poly_chemprop.csv’\n",
            "\n",
            "dataset-poly_chempr 100%[===================>]  10.05M  --.-KB/s    in 0.08s   \n",
            "\n",
            "2024-10-07 10:47:58 (132 MB/s) - ‘dataset-poly_chemprop.csv’ saved [10542141/10542141]\n",
            "\n"
          ]
        }
      ],
      "source": [
        "! wget \"https://raw.githubusercontent.com/coleygroup/polymer-chemprop-data/refs/heads/main/datasets/vipea/chemprop_inputs/dataset-poly_chemprop.csv\""
      ]
    },
    {
      "cell_type": "code",
      "execution_count": null,
      "metadata": {
        "colab": {
          "base_uri": "https://localhost:8080/",
          "height": 193
        },
        "id": "7cDAkS3EpkJj",
        "outputId": "db95b79c-923f-4fcf-fae4-45dfe734a55a",
        "collapsed": true
      },
      "outputs": [
        {
          "output_type": "stream",
          "name": "stdout",
          "text": [
            "Number of data points 42966\n"
          ]
        },
        {
          "output_type": "error",
          "ename": "TypeError",
          "evalue": "'tuple' object is not callable",
          "traceback": [
            "\u001b[0;31m---------------------------------------------------------------------------\u001b[0m",
            "\u001b[0;31mTypeError\u001b[0m                                 Traceback (most recent call last)",
            "\u001b[0;32m<ipython-input-37-ab70cc6868c7>\u001b[0m in \u001b[0;36m<cell line: 8>\u001b[0;34m()\u001b[0m\n\u001b[1;32m      6\u001b[0m \u001b[0;31m# reg_df_wdgraph.head()\u001b[0m\u001b[0;34m\u001b[0m\u001b[0;34m\u001b[0m\u001b[0m\n\u001b[1;32m      7\u001b[0m \u001b[0mreg_df_wdgraph\u001b[0m \u001b[0;34m=\u001b[0m \u001b[0mreg_df_wdgraph\u001b[0m\u001b[0;34m.\u001b[0m\u001b[0miloc\u001b[0m\u001b[0;34m[\u001b[0m\u001b[0;34m:\u001b[0m\u001b[0;36m200\u001b[0m\u001b[0;34m,\u001b[0m\u001b[0;34m:\u001b[0m\u001b[0;34m]\u001b[0m\u001b[0;34m\u001b[0m\u001b[0;34m\u001b[0m\u001b[0m\n\u001b[0;32m----> 8\u001b[0;31m \u001b[0mreg_df_wdgraph\u001b[0m\u001b[0;34m.\u001b[0m\u001b[0mshape\u001b[0m\u001b[0;34m(\u001b[0m\u001b[0;34m)\u001b[0m\u001b[0;34m\u001b[0m\u001b[0;34m\u001b[0m\u001b[0m\n\u001b[0m",
            "\u001b[0;31mTypeError\u001b[0m: 'tuple' object is not callable"
          ]
        }
      ],
      "source": [
        "reg_df_wdgraph = pd.read_csv(\"/content/dataset-poly_chemprop.csv\")\n",
        "print(\"Number of data points\", reg_df_wdgraph.shape[0])\n",
        "reg_df_wdgraph[\"smiles\"] = reg_df_wdgraph[\"poly_chemprop_input\"].values\n",
        "reg_df_wdgraph[\"value\"] = reg_df_wdgraph[\"IP vs SHE (eV)\"].values\n",
        "reg_df_wdgraph = reg_df_wdgraph[[\"smiles\", \"value\"]]\n",
        "# reg_df_wdgraph.head()\n",
        "reg_df_wdgraph = reg_df_wdgraph.iloc[:200,:]\n",
        "reg_df_wdgraph.shape"
      ]
    },
    {
      "cell_type": "code",
      "execution_count": null,
      "metadata": {
        "id": "AmiHDDapqNAU"
      },
      "outputs": [],
      "source": [
        "dmpnn_wdgraph_reg_pipeline = PolymerDiscriminatorPipeline(task=\"regression\", model_name=\"DMPNN\", input_type=\"WDGRAPH\")\n",
        "dmpnn_wdgraph_reg_report = dmpnn_wdgraph_reg_pipeline(reg_df_wdgraph, num_epochs = 10)\n",
        "print(\"DMPNN WDGRAPH regression report >>\", dmpnn_wdgraph_reg_report)"
      ]
    },
    {
      "cell_type": "code",
      "execution_count": null,
      "metadata": {
        "id": "vmL1aaX0vBrT"
      },
      "outputs": [],
      "source": [
        "print(reg_df_wdgraph[\"smiles\"].values[0])"
      ]
    },
    {
      "cell_type": "code",
      "execution_count": null,
      "metadata": {
        "id": "RIQQb--PvTeY"
      },
      "outputs": [],
      "source": [
        "custom = CustomWeightedDirectedGraphFeaturizer()\n",
        "vector = custom.featurize([\"[*:1]c1cc(F)c([*:2])cc1F.[*:3]c1c(O)cc(O)c([*:4])c1O|0.5|0.5|<1-3:0.5:0.5<1-4:0.5:0.5<2-3:0.5:0.5<2-4:0.5:0.5\"])"
      ]
    },
    {
      "cell_type": "markdown",
      "metadata": {
        "id": "WkKzXx_m_Jj2"
      },
      "source": [
        "### Classification Application"
      ]
    },
    {
      "cell_type": "code",
      "execution_count": null,
      "metadata": {
        "id": "6pJ9R7Z4BaUx"
      },
      "outputs": [],
      "source": [
        "! wget https://raw.githubusercontent.com/TRY-ER/sample_polymer_discriminator_pipeline/master/OPV_cat_split.csv"
      ]
    },
    {
      "cell_type": "code",
      "execution_count": null,
      "metadata": {
        "id": "niF1hZ10_Jj2"
      },
      "outputs": [],
      "source": [
        "class_df = pd.read_csv(\"/content/OPV_cat_split.csv\")"
      ]
    },
    {
      "cell_type": "code",
      "execution_count": null,
      "metadata": {
        "id": "bTjYXNXcL9Dj"
      },
      "outputs": [],
      "source": [
        "class_df.head()"
      ]
    },
    {
      "cell_type": "code",
      "execution_count": null,
      "metadata": {
        "id": "xnzDa9Qk_Jj3"
      },
      "outputs": [],
      "source": [
        "gcn_class_pipeline = PolymerDiscriminatorPipeline(task=\"classification\", model_name=\"GCN\")\n",
        "gcn_class_report = gcn_class_pipeline(class_df, num_epochs = 2)\n",
        "print(\"GCN classification report >>\", gcn_class_report)"
      ]
    },
    {
      "cell_type": "code",
      "execution_count": null,
      "metadata": {
        "id": "46nDQ4O69khe"
      },
      "outputs": [],
      "source": [
        "gcn_class_pipeline.id"
      ]
    },
    {
      "cell_type": "code",
      "execution_count": null,
      "metadata": {
        "id": "ZBrnJKgDPAOQ"
      },
      "outputs": [],
      "source": [
        "gcn_restored_class_pipeline = PolymerDiscriminatorPipeline.load_pipeline(gcn_class_pipeline.id)"
      ]
    },
    {
      "cell_type": "code",
      "execution_count": null,
      "metadata": {
        "id": "87UEAu6ePuig"
      },
      "outputs": [],
      "source": [
        "dataset = [\"CC1=CC(CCCCCC)=C(C)S1\"]\n",
        "prediction = gcn_restored_class_pipeline.predict(dataset)\n",
        "print(prediction)"
      ]
    },
    {
      "cell_type": "code",
      "execution_count": null,
      "metadata": {
        "id": "kizXlUEt_Jj3"
      },
      "outputs": [],
      "source": [
        "dmpnn_class_pipeline = PolymerDiscriminatorPipeline(task=\"classification\", model_name=\"DMPNN\")\n",
        "dmpnn_class_report = dmpnn_class_pipeline(class_df, num_epochs = 2)\n",
        "print(\"DMPNN classification report >>\", dmpnn_class_report )"
      ]
    },
    {
      "cell_type": "code",
      "execution_count": null,
      "metadata": {
        "id": "EzICEFlgP_D3"
      },
      "outputs": [],
      "source": [
        "dmpnn_class_pipeline.id"
      ]
    },
    {
      "cell_type": "code",
      "execution_count": null,
      "metadata": {
        "id": "nUP0lSd0QAbg"
      },
      "outputs": [],
      "source": [
        "dmpnn_restored_class_pipeline = PolymerDiscriminatorPipeline.load_pipeline(dmpnn_class_pipeline.id)"
      ]
    },
    {
      "cell_type": "code",
      "execution_count": null,
      "metadata": {
        "id": "FzhwTiNvQTre"
      },
      "outputs": [],
      "source": [
        "dataset = [\"CC1=CC(CCCCCC)=C(C)S1\"]\n",
        "prediction = dmpnn_restored_class_pipeline.predict(dataset)\n",
        "print(prediction)"
      ]
    }
  ],
  "metadata": {
    "accelerator": "GPU",
    "colab": {
      "collapsed_sections": [
        "WkKzXx_m_Jj2"
      ],
      "gpuType": "T4",
      "provenance": []
    },
    "kernelspec": {
      "display_name": "Python 3",
      "name": "python3"
    },
    "language_info": {
      "codemirror_mode": {
        "name": "ipython",
        "version": 3
      },
      "file_extension": ".py",
      "mimetype": "text/x-python",
      "name": "python",
      "nbconvert_exporter": "python",
      "pygments_lexer": "ipython3",
      "version": "3.10.15"
    }
  },
  "nbformat": 4,
  "nbformat_minor": 0
}